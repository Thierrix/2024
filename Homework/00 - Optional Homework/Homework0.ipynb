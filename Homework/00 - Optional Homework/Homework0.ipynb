{
 "cells": [
  {
   "cell_type": "code",
   "execution_count": 2,
   "id": "367b19a2-c6fd-4d49-b09e-6178ed291a80",
   "metadata": {},
   "outputs": [],
   "source": [
    "import pandas as pd\n",
    "import os"
   ]
  },
  {
   "cell_type": "code",
   "execution_count": 6,
   "id": "88a29cfc-f156-4d0c-bac6-8bc7e272b44e",
   "metadata": {},
   "outputs": [
    {
     "data": {
      "text/html": [
       "<div>\n",
       "<style scoped>\n",
       "    .dataframe tbody tr th:only-of-type {\n",
       "        vertical-align: middle;\n",
       "    }\n",
       "\n",
       "    .dataframe tbody tr th {\n",
       "        vertical-align: top;\n",
       "    }\n",
       "\n",
       "    .dataframe thead th {\n",
       "        text-align: right;\n",
       "    }\n",
       "</style>\n",
       "<table border=\"1\" class=\"dataframe\">\n",
       "  <thead>\n",
       "    <tr style=\"text-align: right;\">\n",
       "      <th></th>\n",
       "      <th>Intent</th>\n",
       "      <th>Gender</th>\n",
       "      <th>Age</th>\n",
       "      <th>Race</th>\n",
       "      <th>Deaths</th>\n",
       "      <th>Population</th>\n",
       "      <th>Rate</th>\n",
       "    </tr>\n",
       "  </thead>\n",
       "  <tbody>\n",
       "    <tr>\n",
       "      <th>1</th>\n",
       "      <td>None selected</td>\n",
       "      <td>None selected</td>\n",
       "      <td>None selected</td>\n",
       "      <td>None selected</td>\n",
       "      <td>33599</td>\n",
       "      <td>316299978</td>\n",
       "      <td>10.6</td>\n",
       "    </tr>\n",
       "    <tr>\n",
       "      <th>2</th>\n",
       "      <td>None selected</td>\n",
       "      <td>None selected</td>\n",
       "      <td>None selected</td>\n",
       "      <td>White</td>\n",
       "      <td>22079</td>\n",
       "      <td>197369634</td>\n",
       "      <td>11.2</td>\n",
       "    </tr>\n",
       "    <tr>\n",
       "      <th>3</th>\n",
       "      <td>None selected</td>\n",
       "      <td>None selected</td>\n",
       "      <td>None selected</td>\n",
       "      <td>Black</td>\n",
       "      <td>7765</td>\n",
       "      <td>38896382</td>\n",
       "      <td>20.0</td>\n",
       "    </tr>\n",
       "    <tr>\n",
       "      <th>4</th>\n",
       "      <td>None selected</td>\n",
       "      <td>None selected</td>\n",
       "      <td>None selected</td>\n",
       "      <td>Hispanic</td>\n",
       "      <td>3007</td>\n",
       "      <td>54049078</td>\n",
       "      <td>5.6</td>\n",
       "    </tr>\n",
       "    <tr>\n",
       "      <th>5</th>\n",
       "      <td>None selected</td>\n",
       "      <td>None selected</td>\n",
       "      <td>None selected</td>\n",
       "      <td>Asian/Pacific Islander</td>\n",
       "      <td>442</td>\n",
       "      <td>16315561</td>\n",
       "      <td>2.7</td>\n",
       "    </tr>\n",
       "  </tbody>\n",
       "</table>\n",
       "</div>"
      ],
      "text/plain": [
       "          Intent         Gender            Age                    Race  \\\n",
       "1  None selected  None selected  None selected           None selected   \n",
       "2  None selected  None selected  None selected                   White   \n",
       "3  None selected  None selected  None selected                   Black   \n",
       "4  None selected  None selected  None selected                Hispanic   \n",
       "5  None selected  None selected  None selected  Asian/Pacific Islander   \n",
       "\n",
       "   Deaths  Population  Rate  \n",
       "1   33599   316299978  10.6  \n",
       "2   22079   197369634  11.2  \n",
       "3    7765    38896382  20.0  \n",
       "4    3007    54049078   5.6  \n",
       "5     442    16315561   2.7  "
      ]
     },
     "execution_count": 6,
     "metadata": {},
     "output_type": "execute_result"
    }
   ],
   "source": [
    "##Reading the data\n",
    "path_to_data = \"./data/\"\n",
    "fname = os.path.join(path_to_data, 'interactive_data.csv')\n",
    "df = pd.read_csv(fname, index_col=0)\n",
    "df.head(5)"
   ]
  },
  {
   "cell_type": "code",
   "execution_count": 16,
   "id": "af7a6088-b587-474c-8bd8-09958073a0d4",
   "metadata": {},
   "outputs": [],
   "source": [
    "#Filtering the data\n",
    "df_filtered = df[(df != \"None selected\").all(axis=1)]"
   ]
  },
  {
   "cell_type": "code",
   "execution_count": 17,
   "id": "34046e93-8389-4ce3-aa2f-58fd883ba7ac",
   "metadata": {},
   "outputs": [
    {
     "data": {
      "text/html": [
       "<div>\n",
       "<style scoped>\n",
       "    .dataframe tbody tr th:only-of-type {\n",
       "        vertical-align: middle;\n",
       "    }\n",
       "\n",
       "    .dataframe tbody tr th {\n",
       "        vertical-align: top;\n",
       "    }\n",
       "\n",
       "    .dataframe thead th {\n",
       "        text-align: right;\n",
       "    }\n",
       "</style>\n",
       "<table border=\"1\" class=\"dataframe\">\n",
       "  <thead>\n",
       "    <tr style=\"text-align: right;\">\n",
       "      <th></th>\n",
       "      <th>Intent</th>\n",
       "      <th>Gender</th>\n",
       "      <th>Age</th>\n",
       "      <th>Race</th>\n",
       "      <th>Deaths</th>\n",
       "      <th>Population</th>\n",
       "      <th>Rate</th>\n",
       "    </tr>\n",
       "  </thead>\n",
       "  <tbody>\n",
       "    <tr>\n",
       "      <th>152</th>\n",
       "      <td>Suicide</td>\n",
       "      <td>Female</td>\n",
       "      <td>Under 15</td>\n",
       "      <td>White</td>\n",
       "      <td>19</td>\n",
       "      <td>15355910</td>\n",
       "      <td>0.1</td>\n",
       "    </tr>\n",
       "    <tr>\n",
       "      <th>153</th>\n",
       "      <td>Suicide</td>\n",
       "      <td>Female</td>\n",
       "      <td>Under 15</td>\n",
       "      <td>Black</td>\n",
       "      <td>1</td>\n",
       "      <td>4095428</td>\n",
       "      <td>0.0</td>\n",
       "    </tr>\n",
       "    <tr>\n",
       "      <th>154</th>\n",
       "      <td>Suicide</td>\n",
       "      <td>Female</td>\n",
       "      <td>Under 15</td>\n",
       "      <td>Hispanic</td>\n",
       "      <td>4</td>\n",
       "      <td>7330024</td>\n",
       "      <td>0.1</td>\n",
       "    </tr>\n",
       "    <tr>\n",
       "      <th>155</th>\n",
       "      <td>Suicide</td>\n",
       "      <td>Female</td>\n",
       "      <td>Under 15</td>\n",
       "      <td>Asian/Pacific Islander</td>\n",
       "      <td>1</td>\n",
       "      <td>1393440</td>\n",
       "      <td>0.1</td>\n",
       "    </tr>\n",
       "    <tr>\n",
       "      <th>156</th>\n",
       "      <td>Suicide</td>\n",
       "      <td>Female</td>\n",
       "      <td>Under 15</td>\n",
       "      <td>Other</td>\n",
       "      <td>0</td>\n",
       "      <td>1661877</td>\n",
       "      <td>0.0</td>\n",
       "    </tr>\n",
       "  </tbody>\n",
       "</table>\n",
       "</div>"
      ],
      "text/plain": [
       "      Intent  Gender       Age                    Race  Deaths  Population  \\\n",
       "152  Suicide  Female  Under 15                   White      19    15355910   \n",
       "153  Suicide  Female  Under 15                   Black       1     4095428   \n",
       "154  Suicide  Female  Under 15                Hispanic       4     7330024   \n",
       "155  Suicide  Female  Under 15  Asian/Pacific Islander       1     1393440   \n",
       "156  Suicide  Female  Under 15                   Other       0     1661877   \n",
       "\n",
       "     Rate  \n",
       "152   0.1  \n",
       "153   0.0  \n",
       "154   0.1  \n",
       "155   0.1  \n",
       "156   0.0  "
      ]
     },
     "execution_count": 17,
     "metadata": {},
     "output_type": "execute_result"
    }
   ],
   "source": [
    "#Check if the data is filtered\n",
    "df_filtered.head()"
   ]
  },
  {
   "cell_type": "code",
   "execution_count": 36,
   "id": "d3468983-9972-426f-996b-543faed3c380",
   "metadata": {},
   "outputs": [
    {
     "name": "stdout",
     "output_type": "stream",
     "text": [
      "62.68\n"
     ]
    }
   ],
   "source": [
    "#We want to check the proportion of gun deaths by suicide\n",
    "#We compute the number of deaths first.\n",
    "num_deaths = df_filtered[\"Deaths\"].sum()\n",
    "\n",
    "#Then we compute the number of deaths by suicide\n",
    "death_suicide = df_filtered[df_filtered[\"Intent\"] == \"Suicide\"]\n",
    "num_deaths_by_suicide = death_suicide[\"Deaths\"].sum()\n",
    "\n",
    "#Finally, we compute the percentage and dislay it\n",
    "percentage_death_gun_suicides = num_deaths_by_suicide / num_deaths * 100\n",
    "print(round(percentage_death_gun_suicides, 2))"
   ]
  },
  {
   "cell_type": "code",
   "execution_count": 39,
   "id": "77121232-567c-4407-86aa-90df564a631f",
   "metadata": {},
   "outputs": [
    {
     "name": "stdout",
     "output_type": "stream",
     "text": [
      "86.24\n"
     ]
    }
   ],
   "source": [
    "#We want to check the percentage of male suicide victims\n",
    "\n",
    "#We compute the number of males who comitted suicide\n",
    "death_suicide = df_filtered[df_filtered[\"Intent\"] == \"Suicide\"]\n",
    "num_males_suicide = death_suicide[death_suicide[\"Gender\"] == \"Male\"][\"Deaths\"].sum()\n",
    "\n",
    "#We compute the number of suicides\n",
    "num_suicides = death_suicide[\"Deaths\"].sum()\n",
    "\n",
    "#Finally, we compute the percentage and round it.\n",
    "percentage_male_suicide = num_males_suicide / num_suicides * 100\n",
    "print(round(percentage_male_suicide, 2))"
   ]
  },
  {
   "cell_type": "code",
   "execution_count": 46,
   "id": "1db9140f-5f98-47a9-8100-330d861927f7",
   "metadata": {},
   "outputs": [
    {
     "name": "stdout",
     "output_type": "stream",
     "text": [
      "34.91\n"
     ]
    }
   ],
   "source": [
    "#Now, we check how many gun deaths are homicides (as a proportion)\n",
    "\n",
    "num_death_homicides = df_filtered[df_filtered[\"Intent\"] == \"Homicide\"][\"Deaths\"].sum()\n",
    "num_deaths = df_filtered[\"Deaths\"].sum()\n",
    "\n",
    "percentage_homicides = num_death_homicides / num_deaths * 100\n",
    "print(round(percentage_homicides, 2))"
   ]
  },
  {
   "cell_type": "code",
   "execution_count": 59,
   "id": "c0ffca22-0dff-4255-8832-f09034a128aa",
   "metadata": {},
   "outputs": [
    {
     "name": "stdout",
     "output_type": "stream",
     "text": [
      "66.12\n"
     ]
    }
   ],
   "source": [
    "#We want to compute the percentage of homicide victims who are *males* in the *age-group of 15--34* are black\n",
    "\n",
    "homicide_male_young_victims = df_filtered[(df_filtered[\"Intent\"] == \"Homicide\") & \n",
    "                                        (df_filtered[\"Gender\"] == \"Male\") & \n",
    "                                        (df_filtered[\"Age\"] == \"15 - 34\")]\n",
    "num_young_black_homicide_male_victims = homicide_male_young_victims[homicide_male_young_victims[\"Race\"] == \"Black\"][\"Deaths\"].sum()\n",
    "num_homicide_male_young_victims = homicide_male_young_victims[\"Deaths\"].sum()\n",
    "\n",
    "percentage_homicides_black_young_male = num_young_black_homicide_male_victims / num_homicide_male_young_victims * 100\n",
    "print(round(percentage_homicides_black_young_male, 2))"
   ]
  },
  {
   "cell_type": "code",
   "execution_count": 62,
   "id": "c9168ff6-a256-4dce-8611-7013385b4905",
   "metadata": {},
   "outputs": [
    {
     "name": "stdout",
     "output_type": "stream",
     "text": [
      "15.29\n"
     ]
    }
   ],
   "source": [
    "#We want to compute the percentage of women who are victim of homicide\n",
    "\n",
    "num_women_homicides = df_filtered[(df_filtered[\"Gender\"] == \"Female\") & (df_filtered[\"Intent\"] == \"Homicide\")][\"Deaths\"].sum()\n",
    "\n",
    "num_homicides = df_filtered[df_filtered[\"Intent\"] == \"Homicide\"][\"Deaths\"].sum()\n",
    "\n",
    "percentage_women_homicides = num_women_homicides / num_homicides * 100\n",
    "\n",
    "print(round(percentage_women_homicides, 2))"
   ]
  },
  {
   "cell_type": "code",
   "execution_count": null,
   "id": "41f6c394-4e01-41aa-b5f3-f6041fea80d3",
   "metadata": {},
   "outputs": [],
   "source": []
  }
 ],
 "metadata": {
  "kernelspec": {
   "display_name": "Python 3 (ipykernel)",
   "language": "python",
   "name": "python3"
  },
  "language_info": {
   "codemirror_mode": {
    "name": "ipython",
    "version": 3
   },
   "file_extension": ".py",
   "mimetype": "text/x-python",
   "name": "python",
   "nbconvert_exporter": "python",
   "pygments_lexer": "ipython3",
   "version": "3.11.9"
  }
 },
 "nbformat": 4,
 "nbformat_minor": 5
}
