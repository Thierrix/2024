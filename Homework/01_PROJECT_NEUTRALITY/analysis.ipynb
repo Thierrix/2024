{
 "cells": [
  {
   "cell_type": "markdown",
   "id": "579b567a-2b80-4bf1-8cc1-c514da76ca50",
   "metadata": {},
   "source": [
    "# (ADA) Homework 1: Scoring the Language Model Olympics\n",
    "\n",
    "---\n",
    "\n",
    "By the end of this homework, we expect you to be able to:\n",
    "\n",
    "- Load data and handle data using pandas;\n",
    "- Navigate the documentation of Python packages by yourself;\n",
    "- Filter and tidy up noisy real-world datasets;\n",
    "- Aggregate your data in different (and hopefully helpful) ways;\n",
    "- Create meaningful visualizations to analyze the data;\n",
    "- Communicate your findings in a clear and concise manner\n",
    "\n",
    "---\n",
    "\n",
    "**Important Dates.**\n",
    "\n",
    "- Homework release: Fri 04 Oct 2024\n",
    "- Homework due: Sat 18 Oct 2024, 23:59\n",
    "- Grade release: Mon 04 Nov 2024\n",
    "\n",
    "**Some rules**\n",
    "\n",
    "- You are allowed to use any built-in Python library that comes with Anaconda. If you want to use an external library, you may do so, but must justify your choice.\n",
    "- Make sure you use the data folder provided in the repository in read-only mode. (Or alternatively, be sure you don’t change any of the files.)\n",
    "- Be sure to provide a concise textual description of your thought process, the assumptions you made, the solution you implemented, and explanations for your answers. A notebook that only has code cells will not suffice. To avoid confusion: use short comments for longer code answers.\n",
    "- For questions containing the /Discuss:/ prefix, answer not with code, but with a textual explanation (in markdown).\n",
    "- Back up any hypotheses and claims with data, since this is an important aspect of the course.\n",
    "- Please write all your comments in English, and use meaningful variable names in your code. Your repo should have a single notebook (plus the required data files) in the master/main branch. If there are multiple notebooks present, we will not grade anything.\n",
    "- We will not run your notebook for you! Rather, we will grade it as is, which means that only the results contained in your evaluated code cells will be considered, and we will not see the results in unevaluated code cells. Thus, be sure to hand in a fully-run and evaluated notebook. In order to check whether everything looks as intended, you can check the rendered notebook on the GitHub website once you have pushed your solution there.\n",
    "- In continuation to the previous point, interactive plots, such as those generated using the ‘plotly’ package, should be strictly avoided! Make sure to print results and/or dataframes that confirm you have properly addressed the task.\n",
    "\n",
    "**A Note on using Language Models (LMs)**\n",
    "\n",
    "If you try hard enough, you will likely get away with cheating. Fortunately, our job is not to police, but rather to educate! So, please consider the following:\n",
    "- Presumably, you are taking this course to learn something! LMs are not always right ([they often fail in silly ways](https://community.openai.com/t/why-9-11-is-larger-than-9-9-incredible/869824/4)). This course should prepare you to detect when they are wrong!\n",
    "- Some of the TAs on this course literally published many works on detecting machine-generated text.\n",
    "---"
   ]
  },
  {
   "cell_type": "markdown",
   "id": "4f85896e-c0ae-4ae3-af41-46149faa2278",
   "metadata": {},
   "source": [
    "## Context\n",
    "\n",
    "Context\n",
    "AI is booming! Newspapers, influencers, and your relatives all agree that AI is important. But while almost everyone agrees that AI is the future, much is unclear about what that future looks like…\n",
    "\n",
    "Freshly graduated from the EPFL, you are hired by the Swiss government to advise on a large-scale “AI integration” initiative code-named **\"NEUTRALITY\"** (Navigating Efficient Upgrades Through Robust Artificial Learning Integration Techniques Yearly). Convinced by the stunning progress in language modeling, the government would like to battle the growing shortages in the education sector by using LMs. Your job description: investigate which LMs might be best suited!\n",
    "\n",
    "You are given the results of three LMs on the [“Massive Multitask Language Understanding (MMLU)”](https://arxiv.org/abs/2009.03300) dataset to compare. This famous dataset consists of 57 subjects with multiple-choice questions, covering diverse subjects like mathematics, computer science, history, and law. Most providers of state-of-the-art LMs use this dataset to showcase the versatility of their latest models. Unfortunately, Horta-Ribeiro, the intern responsible for collecting the results, didn’t take EPFL’s famous ADA course. As a result, the collected datasets are slightly corrupted.\n",
    "\n",
    "### A very brief primer on Language Models\n",
    "Language models (LMs) are sophisticated statistical models designed to understand and generate human-like text. At their core, LMs are trained to predict the most likely continuation of a given input text. For example, given the input \"The cat sat on the,\" an LM might predict \"mat\" as a likely continuation.\n",
    "LMs are trained on vast text samples from various sources, including books, websites, and social media. This extensive training allows them to capture patterns and relationships in language, enabling them to generate coherent and contextually appropriate text across a wide range of topics and styles.\n",
    "\n",
    "While LMs can produce text that appears to be written by intelligent humans, it's important to note that their capabilities can diverge from human intelligence in unexpected ways. They may sometimes generate factually incorrect information or struggle with complex reasoning tasks.\n",
    "\n",
    "Two key concepts in understanding LMs are:\n",
    "1. **Tokens**: LMs process text using \"tokens\" rather than individual characters. Tokens can be words, parts of words, or punctuation marks. For example, the sentence \"I love AI!\" might be tokenized as [\"I\", \"love\", \"AI\", \"!\"]. Tokenization is the first step in both training and using an LM.\n",
    "2. **Context**: The input text provided to an LM is called the \"context.\" This context informs the model's predictions or generations. A longer or more specific context often leads to more accurate and relevant outputs.\n",
    "\n",
    "[See: Wikipedia entry on language models](https://en.wikipedia.org/wiki/Large_language_model)\n",
    "\n",
    "###  Files for this assignment\n",
    "This assignment is divided into three tasks, each of which should bring you a step closer to providing a recommendation toward project NEUTRALITY’s objectives:\n",
    "\n",
    "- **Task 1**: Inspecting the results and getting your first model ranking\n",
    "- **Task 2**: Inspecting the underlying data used to generate the results for possible biases\n",
    "- **Task 3**: Learning about tokens and providing a final recommendation\n",
    "\n",
    "\n",
    "```\n",
    "📁 PROJECT_NEUTRALITY\n",
    "│\n",
    "├── 📄 analysis.ipynb (the file you're currently reading!)\n",
    "├── 📄 requirements.txt (install into your environment)\n",
    "│\n",
    "├── 📁 task_1\n",
    "├── 📁 task_2\n",
    "└── 📁 task_2.5\n",
    "```   \n",
    " "
   ]
  },
  {
   "cell_type": "code",
   "execution_count": 1,
   "id": "95ce4c12-9681-401e-9489-aa0765b19d5d",
   "metadata": {},
   "outputs": [],
   "source": [
    "# please make sure you install the packages listed in the requirements.txt file in your environment!\n",
    "# using pip\n",
    "# pip install -r requirements.txt\n",
    "#\n",
    "# using Conda:\n",
    "# conda create --name <env_name> --file requirements.txt\n",
    "#\n",
    "# some basic imports\n",
    "import os\n",
    "import pandas as pd\n",
    "import numpy as np\n",
    "import matplotlib.pyplot as plt\n",
    "import warnings\n",
    "from scipy.stats import ttest_ind"
   ]
  },
  {
   "cell_type": "markdown",
   "id": "e62594ad-4f5f-4a46-80bc-deacf66b62e9",
   "metadata": {},
   "source": [
    "## Task 1 (18 points): What's in an average anyway?\n",
    "\n",
    "The files needed to complete task 1 can be found in the folder \"`data/task_1/`:\n",
    "```\n",
    "task_1/\n",
    "│\n",
    "├── mmlu_data/\n",
    "│   └── test.csv\n",
    "│\n",
    "└── lm_scores/\n",
    "    ├── lm_X.csv\n",
    "    ├── lm_Y.csv\n",
    "    └── lm_Z.csv\n",
    "```\n",
    "\n",
    "We will start by loading, (manually) inspecting, and cleaning the data. Although it doesn't seem \"glamorous\" (nor is it particularly fun...) - manually inspecting data is extremely important! In fact, it's one of the few things most AI and Data Science researchers agree on :). Next, we will take a first pass on ordering our Olympic podium between three LMs."
   ]
  },
  {
   "cell_type": "markdown",
   "id": "f8605646-79fa-4cb3-8137-b6951bd1e064",
   "metadata": {},
   "source": [
    "### 1.1 (1 pt)\n",
    " \n",
    "Load the subfiles contained in the `mmlu_data` and `lm_scores` folders into separate dataframes:\n",
    "- `df_test`\n",
    "- `df_x`\n",
    "- `df_y`\n",
    "- `df_z`\n",
    "\n",
    "for each, print their sizes."
   ]
  },
  {
   "cell_type": "code",
   "execution_count": 2,
   "id": "e6ce5e96-7de6-463d-a00b-6a4b2cfc8cb3",
   "metadata": {},
   "outputs": [
    {
     "name": "stdout",
     "output_type": "stream",
     "text": [
      "df_test shape: 112336\n",
      "df_x shape: 27764\n",
      "df_y shape: 27956\n",
      "df_z shape: 27846\n"
     ]
    }
   ],
   "source": [
    "PATH_IN_MMLU = 'task_1/mmlu_data/'\n",
    "PATH_IN_LM = 'task_1/lm_scores/'\n",
    "\n",
    "df_test = pd.read_csv(PATH_IN_MMLU + 'test.csv')\n",
    "df_x = pd.read_csv(PATH_IN_LM + 'lm_X.csv')\n",
    "df_y = pd.read_csv(PATH_IN_LM + 'lm_Y.csv')\n",
    "df_z = pd.read_csv(PATH_IN_LM + 'lm_Z.csv')\n",
    "\n",
    "print(f'df_test shape: {df_test.size}')\n",
    "print(f'df_x shape: {df_x.size}')\n",
    "print(f'df_y shape: {df_y.size}')\n",
    "print(f'df_z shape: {df_z.size}')\n"
   ]
  },
  {
   "cell_type": "markdown",
   "id": "acbda57d-7df2-4e33-b31c-52bc0af6753e",
   "metadata": {},
   "source": [
    "### 1.2 (4 pt)\n",
    "Unfortunately, LMs don't always output the format we want. In the column `result`, the value should be one of A, B, C, or D. \n",
    "\n",
    "A. For each of the LM score dataframes, use a `value_counts()` operation and print the results. \n",
    "\n",
    "B. /Discuss:/ Inspect the results and describe the types of answer formats you see. Besides the \"expected\" case, you should be able to find at least four unexpected formats."
   ]
  },
  {
   "cell_type": "code",
   "execution_count": 3,
   "id": "79936f23",
   "metadata": {},
   "outputs": [
    {
     "name": "stdout",
     "output_type": "stream",
     "text": [
      "Results for df_x:\n",
      "result\n",
      "A                                                                                                                 2733\n",
      "A                                                                                                                 1657\n",
      "B                                                                                                                 1412\n",
      "Answer: A                                                                                                         1398\n",
      "C                                                                                                                 1134\n",
      "                                                                                                                  ... \n",
      "judicial activism, so the answer is A                                                                                1\n",
      "creating insurmountable obstacles to the founding of factions, so the answer is A                                    1\n",
      "A congressperson who retires to take a position teaching political science at a university, so the answer is A       1\n",
      "David Hume, so the answer is D                                                                                       1\n",
      "Brahminic orthodoxy, so the answer is A                                                                              1\n",
      "Name: count, Length: 145, dtype: int64\n",
      "\n",
      "Results for df_y:\n",
      "result\n",
      "D                                                                                                2894\n",
      "Answer: D                                                                                        1718\n",
      "C                                                                                                1701\n",
      "B                                                                                                1240\n",
      "D                                                                                                1145\n",
      "                                                                                                 ... \n",
      "Where the energy of interaction between the atoms is at its minimum value, so the answer is A       1\n",
      "leaves more viable offspring than others of its species., so the answer is D                        1\n",
      "A and C only, so the answer is D                                                                    1\n",
      "ADP + P → ATP, so the answer is D                                                                   1\n",
      "Monoclonal antibodies, so the answer is C                                                           1\n",
      "Name: count, Length: 142, dtype: int64\n",
      "\n",
      "Results for df_z:\n",
      "result\n",
      "D                                                                                                2257\n",
      "C                                                                                                2191\n",
      "B                                                                                                2127\n",
      "A                                                                                                2060\n",
      "Answer: D                                                                                         777\n",
      "                                                                                                 ... \n",
      "The incumbent vice president of the United States, so the answer is B                               1\n",
      "oversight of executive branch agencies, so the answer is C                                          1\n",
      "White Southerners, so the answer is A                                                               1\n",
      "making it difficult for one faction to gain the power necessary to govern, so the answer is B       1\n",
      "Rahit, so the answer is B                                                                           1\n",
      "Name: count, Length: 561, dtype: int64\n"
     ]
    }
   ],
   "source": [
    "# A\n",
    "print(\"Results for df_x:\")\n",
    "print(df_x['result'].value_counts())\n",
    "\n",
    "print(\"\\nResults for df_y:\")\n",
    "print(df_y['result'].value_counts(dropna=False))\n",
    "\n",
    "print(\"\\nResults for df_z:\")\n",
    "print(df_z['result'].value_counts(dropna=False))"
   ]
  },
  {
   "cell_type": "code",
   "execution_count": 4,
   "id": "620f46cc",
   "metadata": {},
   "outputs": [],
   "source": [
    "# B\n",
    "#Except the normal case that we want which is only the letter, we can find other unwanted  cases such as :\n",
    "# 1- The letter with a space before it\n",
    "# 2- The letter with a \"Answer: \" before it\n",
    "# 3- The letter with a justification before it and then \"so the answer is {letter} \n",
    "# 4- The letter with a justification before it with a point and then \"so the answer is {letter} "
   ]
  },
  {
   "cell_type": "markdown",
   "id": "88c5551d-1968-427b-bdd6-51d996898e7c",
   "metadata": {},
   "source": [
    "### 1.3 (5 pt)\n",
    "Oh oh... That doesn't look great. Simply dropping all invalid answers seems overly wasteful, yet fixing all of these looks like a mess! Instead, let's focus for now on fixing just those answers of length < 10 characters that require only a single `str.replace()` operation. \n",
    "\n",
    "For example, if the answer looks like `--A--`, we could fix this by using the following simple function:\n",
    "\n",
    "```\n",
    "def clean_answer(s, pattern='-'):\n",
    "    return str(s).replace(pattern, '')\n",
    "\n",
    "dirty_answer = '--A--'\n",
    "clean_answer = clean_answer(dirty_answer)\n",
    "```\n",
    "\n",
    "A. Filter the three score dataframes to include only answers with less than 10 characters. Make a deep copy of the dataframes as you filter them.\n",
    "\n",
    "B. Modify the `clean_answer()` example function to clean the answers in the filtered data frames using the `apply()` functionality. Finally, make sure **all remaining answers are one of `A, B, C, or D`.**\n",
    "\n",
    "C. /Discuss:/ Compare the sizes of the original and filtered data frames. What do you see? Why might this be a problem?"
   ]
  },
  {
   "cell_type": "code",
   "execution_count": 5,
   "id": "aef1f933-20bf-426a-ac9d-a35e273b9bd2",
   "metadata": {},
   "outputs": [],
   "source": [
    "# A\n",
    "#Filtering the score dataframes including answers with less than 10 characs\n",
    "df_x_short = df_x[df_x['result'].str.len() < 10].copy(deep=True)\n",
    "df_y_short = df_y[df_y['result'].str.len() < 10].copy(deep=True)\n",
    "df_z_short = df_z[df_z['result'].str.len() < 10].copy(deep=True)"
   ]
  },
  {
   "cell_type": "code",
   "execution_count": 6,
   "id": "f7d18746",
   "metadata": {},
   "outputs": [
    {
     "name": "stdout",
     "output_type": "stream",
     "text": [
      "df_short_x size 26872\n",
      "df_y_short size 27102\n",
      "df_z_short size  25506\n"
     ]
    }
   ],
   "source": [
    "# B\n",
    "def clean_answer(s, pattern='Answer: '):\n",
    "    return str(s).replace(pattern, '').strip()\n",
    "\n",
    "#We apply the function we just created to clean the answers\n",
    "df_x_short['result'] = df_x_short['result'].apply(clean_answer)\n",
    "df_y_short['result'] = df_y_short['result'].apply(clean_answer)\n",
    "df_z_short['result'] = df_z_short['result'].apply(clean_answer)\n",
    "\n",
    "\n",
    "valid_answers = {'A', 'B', 'C', 'D'}\n",
    "# We filter the dataframes to only include the valid answers\n",
    "df_x_short = df_x_short[df_x_short['result'].isin(valid_answers)]\n",
    "df_y_short = df_y_short[df_y_short['result'].isin(valid_answers)]\n",
    "df_z_short = df_z_short[df_z_short['result'].isin(valid_answers)]\n",
    "\n",
    "\n",
    "\n",
    "print(\"df_short_x size\", df_x_short.size)\n",
    "print(\"df_y_short size\", df_y_short.size)\n",
    "print(\"df_z_short size \", df_z_short.size)"
   ]
  },
  {
   "cell_type": "code",
   "execution_count": 7,
   "id": "1488cd88",
   "metadata": {},
   "outputs": [
    {
     "name": "stderr",
     "output_type": "stream",
     "text": [
      "C:\\Users\\thier\\AppData\\Local\\Temp\\ipykernel_17060\\3880244461.py:12: FutureWarning: \n",
      "\n",
      "Passing `palette` without assigning `hue` is deprecated and will be removed in v0.14.0. Assign the `x` variable to `hue` and set `legend=False` for the same effect.\n",
      "\n",
      "  sns.barplot(x='DataFrame', y='Size', data=df_sizes, palette=['blue', 'blue', 'red', 'red', 'green', 'green'], edgecolor='black')\n"
     ]
    },
    {
     "data": {
      "image/png": "[encoded data removed]",
      "text/plain": [
       "<Figure size 1000x600 with 1 Axes>"
      ]
     },
     "metadata": {},
     "output_type": "display_data"
    },
    {
     "name": "stdout",
     "output_type": "stream",
     "text": [
      "For X, we lost this number of answers:  892\n",
      "For Y, we lost this number of answers:  854\n",
      "For Z, we lost this number of answers:  2340\n"
     ]
    }
   ],
   "source": [
    "import seaborn as sns\n",
    "import matplotlib.pyplot as plt\n",
    "\n",
    "# Create a dataframe to hold the sizes of the dataframes\n",
    "df_sizes = pd.DataFrame({\n",
    "    'DataFrame': ['df_x', 'df_x_short', 'df_y', 'df_y_short', 'df_z', 'df_z_short'],\n",
    "    'Size': [df_x.size,df_x_short.size, df_y.size, df_y_short.size, df_z.size, df_z_short.size]\n",
    "})\n",
    "\n",
    "# Plot the sizes using seaborn\n",
    "plt.figure(figsize=(10, 6))\n",
    "sns.barplot(x='DataFrame', y='Size', data=df_sizes, palette=['blue', 'blue', 'red', 'red', 'green', 'green'], edgecolor='black')\n",
    "plt.title('Comparison of DataFrame Sizes')\n",
    "plt.xlabel('DataFrame')\n",
    "plt.ylabel('Number of Answers')\n",
    "plt.show()\n",
    "\n",
    "print(\"For X, we lost this number of answers: \", df_x.size - df_x_short.size)\n",
    "print(\"For Y, we lost this number of answers: \", df_y.size - df_y_short.size)\n",
    "print(\"For Z, we lost this number of answers: \",df_z.size - df_z_short.size)"
   ]
  },
  {
   "cell_type": "markdown",
   "id": "2415cd9b",
   "metadata": {},
   "source": [
    "C. /Discuss:/\n",
    "\n",
    "For the Language Model X, we lose 4114 answers which is nearly 30% of them, so there can be some change in our answers. \n",
    "This would be the same for the Languague Model Y and Z, who respectively lost 22.8% and 17% of there answers.\n",
    "Hence this would lead to a change of impact in terms of answers, and loss of relevance of our results as well as maybe an imbalance of data. "
   ]
  },
  {
   "cell_type": "markdown",
   "id": "da1cf129-09dd-47b1-9737-2c4d57eb8853",
   "metadata": {},
   "source": [
    "### 1.4 (3 pt)\n",
    "\n",
    "Now that our answer columns are nicely formatted, let's take a look at model performance:\n",
    "\n",
    "A. Both the `MMLU` dataframes and the language model score data frames have the columns `question_id`. For each of the language model score data frames, use an inner join operation with the `df_test` dataframe on the `question_id` column.\n",
    "\n",
    "B. Add a new column to each of the resulting dataframes called `correct`, that checks if the model's answer in `result` is the same as the expected answer in the column `answer`. Then, print the average score of each model."
   ]
  },
  {
   "cell_type": "code",
   "execution_count": 8,
   "id": "e66b36f3-f5a4-4237-9b48-39b21716d7aa",
   "metadata": {},
   "outputs": [
    {
     "name": "stdout",
     "output_type": "stream",
     "text": [
      "df_x_merged shape: (13436, 9)\n",
      "df_y_merged shape: (13551, 9)\n",
      "df_z_merged shape: (12753, 9)\n"
     ]
    }
   ],
   "source": [
    "# A\n",
    "#Merging on an inner join\n",
    "df_x_merged = df_x_short.merge(df_test, on='question_id', how='inner')\n",
    "df_y_merged = df_y_short.merge(df_test, on='question_id', how='inner')\n",
    "df_z_merged = df_z_short.merge(df_test, on='question_id', how='inner')\n",
    "\n",
    "#Displaying the new shapes\n",
    "print(f'df_x_merged shape: {df_x_merged.shape}')\n",
    "print(f'df_y_merged shape: {df_y_merged.shape}')\n",
    "print(f'df_z_merged shape: {df_z_merged.shape}')"
   ]
  },
  {
   "cell_type": "code",
   "execution_count": 9,
   "id": "50b024d2",
   "metadata": {},
   "outputs": [
    {
     "name": "stdout",
     "output_type": "stream",
     "text": [
      "Average score for model X: 0.7674903245013397\n",
      "Average score for model Y: 0.7458490148328537\n",
      "Average score for model Z: 0.663294911001333\n"
     ]
    }
   ],
   "source": [
    "# B\n",
    "\n",
    "#Checking if the model's answer is the same as the expected answer\n",
    "df_x_merged['correct'] = df_x_merged['result'] == df_x_merged['answer']\n",
    "df_y_merged['correct'] = df_y_merged['result'] == df_y_merged['answer']\n",
    "df_z_merged['correct'] = df_z_merged['result'] == df_z_merged['answer']\n",
    "\n",
    "#Calculating its average score\n",
    "avg_score_x = df_x_merged['correct'].mean()\n",
    "avg_score_y = df_y_merged['correct'].mean()\n",
    "avg_score_z = df_z_merged['correct'].mean()\n",
    "\n",
    "#Printing the average score\n",
    "print(f'Average score for model X: {avg_score_x}')\n",
    "print(f'Average score for model Y: {avg_score_y}')\n",
    "print(f'Average score for model Z: {avg_score_z}')"
   ]
  },
  {
   "cell_type": "markdown",
   "id": "69decfd8-8083-4c2f-8263-a153d55efede",
   "metadata": {},
   "source": [
    "### 1.5 (5 pt)\n",
    "\n",
    "Hmmm, something doesn't seem quite right. Let's investigate how \"balanced\" this dataset is:\n",
    "\n",
    "A. For each of the 57 subjects in the MMLU, compare the number of questions answered by each model. Print the subjects for which there is a more than 10% difference.\n",
    "\n",
    "B. Propose and implement a reasonable way to rebalance the results. (e.g., while throwing away 100% of the results perfectly rebalances the results, it is not reasonable).\n",
    "\n",
    "C. Finally, print the updated accuracy on the rebalanced data.\n",
    "\n",
    "**hint:**:\n",
    "- (A) For a given subject, let model X and model Y have answered 181 and 200 questions respectively. You can consider this a 10% difference from the perspective of X since: (200 - 181) / 181 > 0.10"
   ]
  },
  {
   "cell_type": "code",
   "execution_count": 10,
   "id": "19463002-732b-405b-8b44-77f702bdb665",
   "metadata": {},
   "outputs": [
    {
     "name": "stdout",
     "output_type": "stream",
     "text": [
      "The subject for which the number of answers is unbalanced: ['college chemistry', 'college computer science', 'computer security', 'formal logic', 'high school geography', 'logical fallacies', 'medical genetics', 'moral disputes', 'moral scenarios']\n"
     ]
    }
   ],
   "source": [
    "# A\n",
    "x_grouped = df_x_merged.groupby('subject').size()\n",
    "y_grouped = df_y_merged.groupby('subject').size()\n",
    "z_grouped = df_z_merged.groupby('subject').size()\n",
    "\n",
    "unbalanced_subjects = []\n",
    "\n",
    "for subject in df_test['subject'].unique():\n",
    "    min_answers = min(x_grouped.get(subject, 0), y_grouped.get(subject, 0), z_grouped.get(subject, 0))\n",
    "    max_answers = max(x_grouped.get(subject, 0), y_grouped.get(subject, 0), z_grouped.get(subject, 0))\n",
    "    if (max_answers - min_answers)/min_answers > 0.10:\n",
    "        unbalanced_subjects.append(subject)\n",
    "        \n",
    "print('The subject for which the number of answers is unbalanced:', unbalanced_subjects)"
   ]
  },
  {
   "cell_type": "code",
   "execution_count": 11,
   "id": "2fb8c324",
   "metadata": {},
   "outputs": [
    {
     "name": "stderr",
     "output_type": "stream",
     "text": [
      "C:\\Users\\thier\\AppData\\Local\\Temp\\ipykernel_17060\\258334874.py:16: DeprecationWarning: DataFrameGroupBy.apply operated on the grouping columns. This behavior is deprecated, and in a future version of pandas the grouping columns will be excluded from the operation. Either pass `include_groups=False` to exclude the groupings or explicitly select the grouping columns after groupby to silence this warning.\n",
      "  df_x_balanced = df_x_merged.groupby('subject').apply(lambda x: x.sample(min_counts_x[x.name], random_state=1))\n",
      "C:\\Users\\thier\\AppData\\Local\\Temp\\ipykernel_17060\\258334874.py:17: DeprecationWarning: DataFrameGroupBy.apply operated on the grouping columns. This behavior is deprecated, and in a future version of pandas the grouping columns will be excluded from the operation. Either pass `include_groups=False` to exclude the groupings or explicitly select the grouping columns after groupby to silence this warning.\n",
      "  df_y_balanced = df_y_merged.groupby('subject').apply(lambda y: y.sample(min_counts_y[y.name], random_state=1))\n",
      "C:\\Users\\thier\\AppData\\Local\\Temp\\ipykernel_17060\\258334874.py:18: DeprecationWarning: DataFrameGroupBy.apply operated on the grouping columns. This behavior is deprecated, and in a future version of pandas the grouping columns will be excluded from the operation. Either pass `include_groups=False` to exclude the groupings or explicitly select the grouping columns after groupby to silence this warning.\n",
      "  df_z_balanced = df_z_merged.groupby('subject').apply(lambda z: z.sample(min_counts_z[z.name], random_state=1))\n"
     ]
    }
   ],
   "source": [
    "# B\n",
    "# B\n",
    "# Rebalancing the results by sampling the minimum number of answers per subject for the only unbalanced subjects\n",
    "min_counts_x = {subject: min(x_grouped[subject], y_grouped[subject], z_grouped[subject]) for subject in unbalanced_subjects}\n",
    "min_counts_y = {subject: min(x_grouped[subject], y_grouped[subject], z_grouped[subject]) for subject in unbalanced_subjects}\n",
    "min_counts_z = {subject: min(x_grouped[subject], y_grouped[subject], z_grouped[subject]) for subject in unbalanced_subjects}\n",
    "\n",
    "#We get the subjects that are not unbalanced and add them \n",
    "subjects = [subject for subject in df_test['subject'].unique() if subject not in unbalanced_subjects]\n",
    "for subject in subjects:\n",
    "    min_counts_x[subject] = x_grouped.get(subject, 0)\n",
    "    min_counts_y[subject] = y_grouped.get(subject, 0)\n",
    "    min_counts_z[subject] = z_grouped.get(subject, 0)\n",
    "\n",
    "#We resample according to each subject that has the minimum number of answers\n",
    "df_x_balanced = df_x_merged.groupby('subject').apply(lambda x: x.sample(min_counts_x[x.name], random_state=1))\n",
    "df_y_balanced = df_y_merged.groupby('subject').apply(lambda y: y.sample(min_counts_y[y.name], random_state=1))\n",
    "df_z_balanced = df_z_merged.groupby('subject').apply(lambda z: z.sample(min_counts_z[z.name], random_state=1))"
   ]
  },
  {
   "cell_type": "code",
   "execution_count": 12,
   "id": "affc3746",
   "metadata": {},
   "outputs": [
    {
     "name": "stdout",
     "output_type": "stream",
     "text": [
      "Accuracy for model X on balanced data: 76.82%\n",
      "Accuracy for model Y on balanced data: 74.67%\n",
      "Accuracy for model Z on balanced data: 66.35%\n"
     ]
    }
   ],
   "source": [
    "# C\n",
    "# Compute the accuracy on the balanced data\n",
    "accuracy_x_balanced = df_x_balanced['correct'].mean()\n",
    "accuracy_y_balanced = df_y_balanced['correct'].mean()\n",
    "accuracy_z_balanced = df_z_balanced['correct'].mean()\n",
    "\n",
    "print(f'Accuracy for model X on balanced data: {round(accuracy_x_balanced, 4)*100}%')\n",
    "print(f'Accuracy for model Y on balanced data: {round(accuracy_y_balanced, 4)*100}%')\n",
    "print(f'Accuracy for model Z on balanced data: {round(accuracy_z_balanced, 4)*100}%')"
   ]
  },
  {
   "cell_type": "markdown",
   "id": "292b2f61-0529-4b6d-a3a7-af786a4d79ae",
   "metadata": {},
   "source": [
    "## Task 2 (26 points): What do you mean A > D > B > C...?\n",
    "\n",
    "Nice work! Having successfully inspected, cleaned, and rebalanced the provided data, you head over to director of the government's NEUTRALITY project. Ms. Sakota is happy with your work so far, but worried that the sloppy intern might have done more undetected damage. To be sure, she orders a new set of evaluations of all models on both MMLU and another dataset.\n",
    "\n",
    "After cleaning up and rebalancing, you are left with the concatenated score files in the second folder `task_2`:\n",
    "```\n",
    "task_2/\n",
    "│\n",
    "└── lm_scores_mmlu.csv\n",
    "│\n",
    "└── lm_scores_other.csv\n",
    "```\n",
    "\n",
    "Each has a new column called `model_name`, which is one of `X, Y` or `Z`.\n",
    "\n",
    "\n",
    "\n",
    "_NOTE: **only** use data from `task_2` and `task_2_5` for this assignment! The values in `lm_scores_mmlu.csv` will NOT be the same as the dataframes you finished in task 1. This is due to \"randomness\" or \"temperature\" in language model inference. This can slightly shift around generative results. (Conveniently: it also ensures any mistakes made in Task 1 don't propogate further ;) )_"
   ]
  },
  {
   "cell_type": "code",
   "execution_count": 13,
   "id": "a889a76b-e034-4d2f-929e-0ef1f250a0a0",
   "metadata": {},
   "outputs": [
    {
     "data": {
      "text/html": [
       "<div>\n",
       "<style scoped>\n",
       "    .dataframe tbody tr th:only-of-type {\n",
       "        vertical-align: middle;\n",
       "    }\n",
       "\n",
       "    .dataframe tbody tr th {\n",
       "        vertical-align: top;\n",
       "    }\n",
       "\n",
       "    .dataframe thead th {\n",
       "        text-align: right;\n",
       "    }\n",
       "</style>\n",
       "<table border=\"1\" class=\"dataframe\">\n",
       "  <thead>\n",
       "    <tr style=\"text-align: right;\">\n",
       "      <th></th>\n",
       "      <th>result</th>\n",
       "      <th>question_id</th>\n",
       "      <th>question</th>\n",
       "      <th>A</th>\n",
       "      <th>B</th>\n",
       "      <th>C</th>\n",
       "      <th>D</th>\n",
       "      <th>answer</th>\n",
       "      <th>subject</th>\n",
       "      <th>correct</th>\n",
       "      <th>model_name</th>\n",
       "    </tr>\n",
       "  </thead>\n",
       "  <tbody>\n",
       "    <tr>\n",
       "      <th>0</th>\n",
       "      <td>B</td>\n",
       "      <td>0</td>\n",
       "      <td>Find the degree for the given field extension ...</td>\n",
       "      <td>0</td>\n",
       "      <td>4</td>\n",
       "      <td>2</td>\n",
       "      <td>6</td>\n",
       "      <td>B</td>\n",
       "      <td>abstract algebra</td>\n",
       "      <td>True</td>\n",
       "      <td>X</td>\n",
       "    </tr>\n",
       "    <tr>\n",
       "      <th>1</th>\n",
       "      <td>C</td>\n",
       "      <td>1</td>\n",
       "      <td>Let p = (1, 2, 5, 4)(2, 3) in S_5 . Find the i...</td>\n",
       "      <td>8</td>\n",
       "      <td>2</td>\n",
       "      <td>24</td>\n",
       "      <td>120</td>\n",
       "      <td>C</td>\n",
       "      <td>abstract algebra</td>\n",
       "      <td>True</td>\n",
       "      <td>X</td>\n",
       "    </tr>\n",
       "    <tr>\n",
       "      <th>2</th>\n",
       "      <td>D</td>\n",
       "      <td>2</td>\n",
       "      <td>Find all zeros in the indicated finite field o...</td>\n",
       "      <td>0</td>\n",
       "      <td>1</td>\n",
       "      <td>0,1</td>\n",
       "      <td>0,4</td>\n",
       "      <td>D</td>\n",
       "      <td>abstract algebra</td>\n",
       "      <td>True</td>\n",
       "      <td>X</td>\n",
       "    </tr>\n",
       "    <tr>\n",
       "      <th>3</th>\n",
       "      <td>B</td>\n",
       "      <td>3</td>\n",
       "      <td>Statement 1 | A factor group of a non-Abelian ...</td>\n",
       "      <td>True, True</td>\n",
       "      <td>False, False</td>\n",
       "      <td>True, False</td>\n",
       "      <td>False, True</td>\n",
       "      <td>B</td>\n",
       "      <td>abstract algebra</td>\n",
       "      <td>True</td>\n",
       "      <td>X</td>\n",
       "    </tr>\n",
       "    <tr>\n",
       "      <th>4</th>\n",
       "      <td>D</td>\n",
       "      <td>7</td>\n",
       "      <td>Statement 1 | A ring homomorphism is one to on...</td>\n",
       "      <td>True, True</td>\n",
       "      <td>False, False</td>\n",
       "      <td>True, False</td>\n",
       "      <td>False, True</td>\n",
       "      <td>D</td>\n",
       "      <td>abstract algebra</td>\n",
       "      <td>True</td>\n",
       "      <td>X</td>\n",
       "    </tr>\n",
       "    <tr>\n",
       "      <th>...</th>\n",
       "      <td>...</td>\n",
       "      <td>...</td>\n",
       "      <td>...</td>\n",
       "      <td>...</td>\n",
       "      <td>...</td>\n",
       "      <td>...</td>\n",
       "      <td>...</td>\n",
       "      <td>...</td>\n",
       "      <td>...</td>\n",
       "      <td>...</td>\n",
       "      <td>...</td>\n",
       "    </tr>\n",
       "    <tr>\n",
       "      <th>35083</th>\n",
       "      <td>A</td>\n",
       "      <td>14037</td>\n",
       "      <td>What has been a central focus of religious tra...</td>\n",
       "      <td>Peace and harmony</td>\n",
       "      <td>Power and influence</td>\n",
       "      <td>Truth and love</td>\n",
       "      <td>Wisdom and ethics</td>\n",
       "      <td>A</td>\n",
       "      <td>world religions</td>\n",
       "      <td>True</td>\n",
       "      <td>Z</td>\n",
       "    </tr>\n",
       "    <tr>\n",
       "      <th>35084</th>\n",
       "      <td>C</td>\n",
       "      <td>14038</td>\n",
       "      <td>To whom did ordinary folk appeal during a dro...</td>\n",
       "      <td>The Buddha</td>\n",
       "      <td>Laozi</td>\n",
       "      <td>The Queen Mother of the West</td>\n",
       "      <td>Confucius</td>\n",
       "      <td>C</td>\n",
       "      <td>world religions</td>\n",
       "      <td>True</td>\n",
       "      <td>Z</td>\n",
       "    </tr>\n",
       "    <tr>\n",
       "      <th>35085</th>\n",
       "      <td>B</td>\n",
       "      <td>14039</td>\n",
       "      <td>The theological term homoousios means which o...</td>\n",
       "      <td>of a similar substance</td>\n",
       "      <td>of the same substance</td>\n",
       "      <td>of like substance</td>\n",
       "      <td>of human substance</td>\n",
       "      <td>B</td>\n",
       "      <td>world religions</td>\n",
       "      <td>True</td>\n",
       "      <td>Z</td>\n",
       "    </tr>\n",
       "    <tr>\n",
       "      <th>35086</th>\n",
       "      <td>B</td>\n",
       "      <td>14040</td>\n",
       "      <td>According to the Japanese origin myth, who giv...</td>\n",
       "      <td>Es</td>\n",
       "      <td>Izanagi</td>\n",
       "      <td>Izanami</td>\n",
       "      <td>Kami</td>\n",
       "      <td>B</td>\n",
       "      <td>world religions</td>\n",
       "      <td>True</td>\n",
       "      <td>Z</td>\n",
       "    </tr>\n",
       "    <tr>\n",
       "      <th>35087</th>\n",
       "      <td>A</td>\n",
       "      <td>14041</td>\n",
       "      <td>The numen of Augustus referred to which of th...</td>\n",
       "      <td>Divine power</td>\n",
       "      <td>Sexual virility</td>\n",
       "      <td>Military acumen</td>\n",
       "      <td>Philosophical intellect</td>\n",
       "      <td>A</td>\n",
       "      <td>world religions</td>\n",
       "      <td>True</td>\n",
       "      <td>Z</td>\n",
       "    </tr>\n",
       "  </tbody>\n",
       "</table>\n",
       "<p>35088 rows × 11 columns</p>\n",
       "</div>"
      ],
      "text/plain": [
       "      result  question_id                                           question  \\\n",
       "0          B            0  Find the degree for the given field extension ...   \n",
       "1          C            1  Let p = (1, 2, 5, 4)(2, 3) in S_5 . Find the i...   \n",
       "2          D            2  Find all zeros in the indicated finite field o...   \n",
       "3          B            3  Statement 1 | A factor group of a non-Abelian ...   \n",
       "4          D            7  Statement 1 | A ring homomorphism is one to on...   \n",
       "...      ...          ...                                                ...   \n",
       "35083      A        14037  What has been a central focus of religious tra...   \n",
       "35084      C        14038   To whom did ordinary folk appeal during a dro...   \n",
       "35085      B        14039   The theological term homoousios means which o...   \n",
       "35086      B        14040  According to the Japanese origin myth, who giv...   \n",
       "35087      A        14041   The numen of Augustus referred to which of th...   \n",
       "\n",
       "                            A                      B  \\\n",
       "0                           0                      4   \n",
       "1                           8                      2   \n",
       "2                           0                      1   \n",
       "3                  True, True           False, False   \n",
       "4                  True, True           False, False   \n",
       "...                       ...                    ...   \n",
       "35083       Peace and harmony    Power and influence   \n",
       "35084              The Buddha                  Laozi   \n",
       "35085  of a similar substance  of the same substance   \n",
       "35086                      Es                Izanagi   \n",
       "35087            Divine power        Sexual virility   \n",
       "\n",
       "                                  C                        D answer  \\\n",
       "0                                 2                        6      B   \n",
       "1                                24                      120      C   \n",
       "2                               0,1                      0,4      D   \n",
       "3                       True, False              False, True      B   \n",
       "4                       True, False              False, True      D   \n",
       "...                             ...                      ...    ...   \n",
       "35083                Truth and love        Wisdom and ethics      A   \n",
       "35084  The Queen Mother of the West                Confucius      C   \n",
       "35085             of like substance       of human substance      B   \n",
       "35086                       Izanami                     Kami      B   \n",
       "35087               Military acumen  Philosophical intellect      A   \n",
       "\n",
       "                subject  correct model_name  \n",
       "0      abstract algebra     True          X  \n",
       "1      abstract algebra     True          X  \n",
       "2      abstract algebra     True          X  \n",
       "3      abstract algebra     True          X  \n",
       "4      abstract algebra     True          X  \n",
       "...                 ...      ...        ...  \n",
       "35083   world religions     True          Z  \n",
       "35084   world religions     True          Z  \n",
       "35085   world religions     True          Z  \n",
       "35086   world religions     True          Z  \n",
       "35087   world religions     True          Z  \n",
       "\n",
       "[35088 rows x 11 columns]"
      ]
     },
     "execution_count": 13,
     "metadata": {},
     "output_type": "execute_result"
    }
   ],
   "source": [
    "# PROVIDED CODE\n",
    "df_mmlu = pd.read_csv('task_2/lm_scores_mmlu.csv')\n",
    "df_other = pd.read_csv('task_2/lm_scores_other.csv')\n",
    "df_mmlu"
   ]
  },
  {
   "cell_type": "markdown",
   "id": "c31edde3-cc91-4d08-81c7-b5e98cf0ff9c",
   "metadata": {},
   "source": [
    "### 2.1 (4 pt)\n",
    "\n",
    "Let's explore the new results:\n",
    "\n",
    "A. Compute the mean accuracy and standard errors of each model on both datasets and print the results.\n",
    "\n",
    "B. Then,show your results in a bar plot using standard errors with a 95% confidence interval around the mean.  Make sure the plot is easy to read and well annotated.\n",
    "\n",
    "C. /Discuss:/ the plot you created: (i) can you say that one of the models is the best? (ii) is there anything that seems odd?"
   ]
  },
  {
   "cell_type": "code",
   "execution_count": 14,
   "id": "56fe8cca-acd1-4f5e-a938-e8d3a850f220",
   "metadata": {},
   "outputs": [
    {
     "name": "stdout",
     "output_type": "stream",
     "text": [
      "Mean Accuracy and Standard Error on MMLU Dataset:\n",
      "model_name\n",
      "X    0.743588\n",
      "Y    0.761542\n",
      "Z    0.655951\n",
      "Name: correct, dtype: float64\n",
      "model_name\n",
      "X    0.004038\n",
      "Y    0.003941\n",
      "Z    0.004393\n",
      "Name: correct, dtype: float64\n",
      "\n",
      "Mean Accuracy and Standard Error on Other Dataset:\n",
      "model_name\n",
      "X    0.787976\n",
      "Y    0.720936\n",
      "Z    0.671721\n",
      "Name: correct, dtype: float64\n",
      "model_name\n",
      "X    0.006668\n",
      "Y    0.007317\n",
      "Z    0.007660\n",
      "Name: correct, dtype: float64\n"
     ]
    }
   ],
   "source": [
    "# A\n",
    "# Compute mean accuracy and standard error for each model on both datasets\n",
    "mean_accuracy_mmlu = df_mmlu.groupby('model_name')['correct'].mean()\n",
    "std_error_mmlu = df_mmlu.groupby('model_name')['correct'].sem()\n",
    "\n",
    "mean_accuracy_other = df_other.groupby('model_name')['correct'].mean()\n",
    "std_error_other = df_other.groupby('model_name')['correct'].sem()\n",
    "\n",
    "# Printing the average and standard error for each model\n",
    "print(\"Mean Accuracy and Standard Error on MMLU Dataset:\")\n",
    "print(mean_accuracy_mmlu)\n",
    "print(std_error_mmlu)\n",
    "\n",
    "print(\"\\nMean Accuracy and Standard Error on Other Dataset:\")\n",
    "print(mean_accuracy_other)\n",
    "print(std_error_other)"
   ]
  },
  {
   "cell_type": "code",
   "execution_count": 15,
   "id": "d3a176c6",
   "metadata": {},
   "outputs": [
    {
     "data": {
      "image/png": "[encoded data removed]",
      "text/plain": [
       "<Figure size 1000x600 with 1 Axes>"
      ]
     },
     "metadata": {},
     "output_type": "display_data"
    }
   ],
   "source": [
    "import numpy as np\n",
    "import matplotlib.pyplot as plt\n",
    "from scipy import stats\n",
    "\n",
    "mean_x_mmlu = mean_accuracy_mmlu['X']\n",
    "mean_y_mmlu = mean_accuracy_mmlu['Y']\n",
    "mean_z_mmlu = mean_accuracy_mmlu['Z']\n",
    "\n",
    "mean_x_other = mean_accuracy_other['X']\n",
    "mean_y_other = mean_accuracy_other['Y']\n",
    "mean_z_other = mean_accuracy_other['Z']\n",
    "\n",
    "std_x_mmlu = std_error_mmlu['X']\n",
    "std_y_mmlu = std_error_mmlu['Y']\n",
    "std_z_mmlu = std_error_mmlu['Z']\n",
    "\n",
    "std_x_other = std_error_other['X']\n",
    "std_y_other = std_error_other['Y']\n",
    "std_z_other = std_error_other['Z']\n",
    "\n",
    "# Plotting the bar plot with standard errors and 95% confidence intervals\n",
    "labels = ['Model X', 'Model Y', 'Model Z']\n",
    "x = np.arange(len(labels))  # the label locations\n",
    "width = 0.35  # the width of the bars\n",
    "\n",
    "fig, ax = plt.subplots(figsize=(10, 6))\n",
    "\n",
    "# Plotting MMLU dataset\n",
    "rects_mmlu = ax.bar(x - width/2, [mean_x_mmlu, mean_y_mmlu, mean_z_mmlu], width, \n",
    "                yerr=[std_x_mmlu, std_y_mmlu, std_z_mmlu], label='MMLU', capsize=5, edgecolor='black')\n",
    "\n",
    "# Plotting Other dataset\n",
    "rects_other = ax.bar(x + width/2, [mean_x_other, mean_y_other, mean_z_other], width, \n",
    "                yerr=[std_x_other, std_y_other, std_z_other], label='Other', capsize=5, edgecolor='black')\n",
    "\n",
    "# Add some text for labels, title and custom x-axis tick labels, etc.\n",
    "ax.set_xlabel('Models')\n",
    "ax.set_ylabel('Mean Accuracy')\n",
    "ax.set_title('Mean Accuracy of Models with 95% Confidence Intervals')\n",
    "ax.set_xticks(x)\n",
    "ax.set_xticklabels(labels)\n",
    "ax.legend()\n",
    "\n",
    "# Function to add labels on top of bars\n",
    "def autolabel(rects):\n",
    "    for rect in rects:\n",
    "        height = rect.get_height()\n",
    "        ax.annotate(f'{height:.2f}',\n",
    "                    xy=(rect.get_x() + rect.get_width() / 2, height),\n",
    "                    xytext=(0, 3),  # 3 points vertical offset\n",
    "                    textcoords=\"offset points\",\n",
    "                    ha='center', va='bottom')\n",
    "\n",
    "autolabel(rects_mmlu)\n",
    "autolabel(rects_other)\n",
    "\n",
    "plt.show()\n"
   ]
  },
  {
   "cell_type": "markdown",
   "id": "65c9fbfe",
   "metadata": {},
   "source": [
    "C. /Discuss:/"
   ]
  },
  {
   "cell_type": "markdown",
   "id": "eee0ec62-f2d1-4bae-a6f6-221320d602cb",
   "metadata": {},
   "source": [
    "### 2.2 (5 pt)\n",
    "\n",
    "Ms. Sakota has assured you that both datasets contain questions of similar difficulty, so, what could be going on here?\n",
    "\n",
    "A. What is the distribution of correct answers (A, B, C, D) for each dataset? Create a bar chart to visualize this.\n",
    "\n",
    "B. Perform a chi-square test at $\\alpha = 0.05$, of independence to determine if there's a significant difference in the distribution of correct answers between the two datasets. What do you conclude?\n",
    "\n",
    "**hints**:\n",
    "- for (A), keep in mind that df_mmlu and df_other contain the results of all models, i.e., the `question_id` column is duplicated.\n",
    "- for (A), take care to clearly annotate the bar chart, e.g., title, y-label, legend.\n",
    "- for (B), clearly state the null hypothesis and alternative hypothesis\n",
    "- use the `chi2_contingency` function from `scipy.stats`\n",
    "- format your results from answer (A) as a 2D array"
   ]
  },
  {
   "cell_type": "code",
   "execution_count": 16,
   "id": "30b16f70-93e0-4a19-8a6d-b3ae5a75ae65",
   "metadata": {},
   "outputs": [
    {
     "data": {
      "image/png": "[encoded data removed]",
      "text/plain": [
       "<Figure size 1000x600 with 1 Axes>"
      ]
     },
     "metadata": {},
     "output_type": "display_data"
    }
   ],
   "source": [
    "# A\n",
    "# Calculate the distribution of correct answers for each dataset\n",
    "correct_answers_mmlu = df_mmlu[df_mmlu['correct']]['result'].value_counts(normalize=True).sort_index()\n",
    "correct_answers_other = df_other[df_other['correct']]['result'].value_counts(normalize=True).sort_index()\n",
    "\n",
    "# Plot the distribution of correct answers for each dataset\n",
    "fig, ax = plt.subplots(figsize=(10, 6))\n",
    "\n",
    "width = 0.35  # the width of the bars\n",
    "labels = ['A', 'B', 'C', 'D']\n",
    "\n",
    "# Plot the distribution of correct answers for each dataset\n",
    "ax.bar(np.arange(len(labels)) - width/2, correct_answers_mmlu, width, label='MMLU', color='skyblue', edgecolor='black')\n",
    "ax.bar(np.arange(len(labels)) + width/2, correct_answers_other, width, label='Other', color='lightgreen', edgecolor='black')\n",
    "\n",
    "# Add some text for labels, title and custom x-axis tick labels, etc.\n",
    "ax.set_xlabel('Answer')\n",
    "ax.set_ylabel('Proportion')\n",
    "ax.set_title('Distribution of Correct Answers in MMLU and Other Datasets')\n",
    "ax.set_xticks(np.arange(len(labels)))\n",
    "ax.set_xticklabels(labels)\n",
    "ax.legend()\n",
    "\n",
    "plt.tight_layout()\n",
    "plt.show()"
   ]
  },
  {
   "cell_type": "code",
   "execution_count": 17,
   "id": "92392cd7",
   "metadata": {},
   "outputs": [
    {
     "name": "stdout",
     "output_type": "stream",
     "text": [
      "Chi2 Statistic: 0.1106836657241613\n",
      "p-value: 0.9905252230576007\n",
      "expected frequencies table:[[0.22130495 0.26945306 0.2605295  0.24871248]\n",
      " [0.22130495 0.26945306 0.2605295  0.24871248]]\n",
      "There is a significant difference in the distribution of correct answers between the two datasets.\n"
     ]
    }
   ],
   "source": [
    "from scipy.stats import chi2_contingency\n",
    "\n",
    "# B\n",
    "\n",
    "# Ensure both Series have the same index order\n",
    "\n",
    "df = pd.DataFrame([correct_answers_mmlu, correct_answers_other])\n",
    "\n",
    "# Create a 2D array from the proportions\n",
    "proportions_array = np.array([correct_answers_mmlu.values, correct_answers_other.values])\n",
    "\n",
    "# Perform chi-square test\n",
    "chi2, p_value, dof, expected = chi2_contingency(df)\n",
    "\n",
    "# Print the results\n",
    "print(f'Chi2 Statistic: {chi2}')\n",
    "print(f'p-value: {p_value}')\n",
    "print(f'expected frequencies table:{expected}')\n",
    "\n",
    "# Conclusion\n",
    "if p_value < 0.05:\n",
    "    print(\"There is no significant difference in the distribution of correct answers between the two datasets.\")\n",
    "else:\n",
    "    print(\"There is a significant difference in the distribution of correct answers between the two datasets.\")\n",
    "\n",
    "#still have to state the null hypothesis and the alternative hypothesis"
   ]
  },
  {
   "cell_type": "markdown",
   "id": "2d3125ad-5a7e-44e7-999a-a0ff99855d39",
   "metadata": {},
   "source": [
    "### 2.3 (7 pt)\n",
    "\n",
    "Let's dive in deeper:\n",
    "\n",
    "A. What is language model X's mean accuracy conditioned on the four answer options for each dataset?\n",
    "\n",
    "B. Compare LM X's performance when the correct answer is \"A\" between the two datasets. Use a T-test with CI = 0.95. What do you conclude?\n",
    "\n",
    "C. Compare LM X's performance when the correct answer is \"A\" vs. \"C or D\" for each dataset. Use a T-test with CI = 0.95. What do you conclude?"
   ]
  },
  {
   "cell_type": "code",
   "execution_count": 18,
   "id": "39097a11-8efe-46d1-8bc3-5587bb58d199",
   "metadata": {},
   "outputs": [
    {
     "name": "stdout",
     "output_type": "stream",
     "text": [
      "Mean accuracy for model X on MMLU dataset conditioned on answer options:\n",
      "answer\n",
      "A    0.972688\n",
      "B    0.799185\n",
      "C    0.707905\n",
      "D    0.633592\n",
      "Name: correct, dtype: float64\n",
      "\n",
      "Mean accuracy for model X on Other dataset conditioned on answer options:\n",
      "answer\n",
      "A    0.974026\n",
      "B    0.806452\n",
      "C    0.676407\n",
      "D    0.603744\n",
      "Name: correct, dtype: float64\n"
     ]
    }
   ],
   "source": [
    "# A\n",
    "mean_accuracy_x_mmlu = df_mmlu[df_mmlu['model_name'] == 'X'].groupby('answer')['correct'].mean()\n",
    "mean_accuracy_x_other = df_other[df_other['model_name'] == 'X'].groupby('answer')['correct'].mean()\n",
    "\n",
    "print(\"Mean accuracy for model X on MMLU dataset conditioned on answer options:\")\n",
    "print(mean_accuracy_x_mmlu)\n",
    "\n",
    "print(\"\\nMean accuracy for model X on Other dataset conditioned on answer options:\")\n",
    "print(mean_accuracy_x_other)"
   ]
  },
  {
   "cell_type": "code",
   "execution_count": 19,
   "id": "9ae67c09",
   "metadata": {},
   "outputs": [
    {
     "name": "stdout",
     "output_type": "stream",
     "text": [
      "T-statistic: -0.21059510911432247\n",
      "P-value: 0.8332191972699248\n"
     ]
    }
   ],
   "source": [
    "# B\n",
    "# Filter the data for model X and correct answer \"A\"\n",
    "x_mmlu_A = df_mmlu[(df_mmlu['model_name'] == 'X') & (df_mmlu['answer'] == 'A')]['correct']\n",
    "x_other_A = df_other[(df_other['model_name'] == 'X') & (df_other['answer'] == 'A')]['correct']\n",
    "\n",
    "# Perform a T-test\n",
    "t_stat, p_value = ttest_ind(x_mmlu_A, x_other_A)\n",
    "\n",
    "# Print the results\n",
    "print(f'T-statistic: {t_stat}')\n",
    "print(f'P-value: {p_value}')\n",
    "\n",
    "#What can I conclude"
   ]
  },
  {
   "cell_type": "code",
   "execution_count": 20,
   "id": "636af6a6",
   "metadata": {},
   "outputs": [
    {
     "name": "stdout",
     "output_type": "stream",
     "text": [
      "MMLU Dataset - T-statistic: 44.05883659993774, P-value: 0.0\n",
      "Other Dataset - T-statistic: 25.13948464328854, P-value: 1.1880049447651482e-121\n",
      "For the MMLU dataset, there is no significant difference in performance when the correct answer is 'A' vs. 'C or D'.\n",
      "For the Other dataset, there is no significant difference in performance when the correct answer is 'A' vs. 'C or D'.\n"
     ]
    }
   ],
   "source": [
    "# C\n",
    "# Filter the data for model X and correct answers \"A\" and \"C or D\"\n",
    "x_mmlu_A = df_mmlu[(df_mmlu['model_name'] == 'X') & (df_mmlu['answer'] == 'A')]['correct']\n",
    "x_mmlu_CD = df_mmlu[(df_mmlu['model_name'] == 'X') & (df_mmlu['answer'].isin(['C', 'D']))]['correct']\n",
    "\n",
    "x_other_A = df_other[(df_other['model_name'] == 'X') & (df_other['answer'] == 'A')]['correct']\n",
    "x_other_CD = df_other[(df_other['model_name'] == 'X') & (df_other['answer'].isin(['C', 'D']))]['correct']\n",
    "\n",
    "# Perform T-tests\n",
    "t_stat_mmlu, p_value_mmlu = ttest_ind(x_mmlu_A, x_mmlu_CD, equal_var=False)\n",
    "t_stat_other, p_value_other = ttest_ind(x_other_A, x_other_CD, equal_var=False)\n",
    "\n",
    "# Print the results\n",
    "print(f'MMLU Dataset - T-statistic: {t_stat_mmlu}, P-value: {p_value_mmlu}')\n",
    "print(f'Other Dataset - T-statistic: {t_stat_other}, P-value: {p_value_other}')\n",
    "\n",
    "# Conclusion\n",
    "if p_value_mmlu < 0.05:\n",
    "    print(\"For the MMLU dataset, there is no significant difference in performance when the correct answer is 'A' vs. 'C or D'.\")\n",
    "else:\n",
    "    print(\"For the MMLU dataset, there is a significant difference in performance when the correct answer is 'A' vs. 'C or D'.\")\n",
    "\n",
    "if p_value_other < 0.05:\n",
    "    print(\"For the Other dataset, there is no significant difference in performance when the correct answer is 'A' vs. 'C or D'.\")\n",
    "else:\n",
    "    print(\"For the Other dataset, there is a significant difference in performance when the correct answer is 'A' vs. 'C or D'.\")\n",
    "\n",
    "#"
   ]
  },
  {
   "cell_type": "markdown",
   "id": "33848ff9-2604-4e48-b5df-3207dc81e9a9",
   "metadata": {},
   "source": [
    "### 2.4 (2 pt)\n",
    "\n",
    "What an intriguing finding! \n",
    "\n",
    "A. Print the mean accuracies conditioned on the correct answer for all LMs for each dataset.\n",
    "\n",
    "B. /Discuss:/ What do you observe?"
   ]
  },
  {
   "cell_type": "code",
   "execution_count": 21,
   "id": "ec53ce2c-866e-440a-ac79-7813cb756782",
   "metadata": {},
   "outputs": [
    {
     "name": "stdout",
     "output_type": "stream",
     "text": [
      "Mean accuracies conditioned on the correct answer for all LMs on MMLU dataset:\n",
      "model_name  answer\n",
      "X           A         0.972688\n",
      "            B         0.799185\n",
      "            C         0.707905\n",
      "            D         0.633592\n",
      "Y           A         0.623836\n",
      "            B         0.688073\n",
      "            C         0.733470\n",
      "            D         0.904252\n",
      "Z           A         0.643079\n",
      "            B         0.641182\n",
      "            C         0.669115\n",
      "            D         0.661139\n",
      "Name: correct, dtype: float64\n",
      "\n",
      "Mean accuracies conditioned on the correct answer for all LMs on Other dataset:\n",
      "model_name  answer\n",
      "X           A         0.974026\n",
      "            B         0.806452\n",
      "            C         0.676407\n",
      "            D         0.603744\n",
      "Y           A         0.625232\n",
      "            B         0.663978\n",
      "            C         0.762987\n",
      "            D         0.920437\n",
      "Z           A         0.680891\n",
      "            B         0.667563\n",
      "            C         0.662338\n",
      "            D         0.677067\n",
      "Name: correct, dtype: float64\n"
     ]
    }
   ],
   "source": [
    "# A\n",
    "# Calculate mean accuracies conditioned on the correct answer for all LMs for each dataset\n",
    "mean_accuracy_conditioned_mmlu = df_mmlu.groupby(['model_name', 'answer'])['correct'].mean()\n",
    "mean_accuracy_conditioned_other = df_other.groupby(['model_name', 'answer'])['correct'].mean()\n",
    "\n",
    "print(\"Mean accuracies conditioned on the correct answer for all LMs on MMLU dataset:\")\n",
    "print(mean_accuracy_conditioned_mmlu)\n",
    "\n",
    "print(\"\\nMean accuracies conditioned on the correct answer for all LMs on Other dataset:\")\n",
    "print(mean_accuracy_conditioned_other)"
   ]
  },
  {
   "cell_type": "markdown",
   "id": "4ce58e47",
   "metadata": {},
   "source": [
    "B. /Discuss:/\n",
    "\n",
    "From what we can see here, we understand that some models here predict better or worse some of the answers,\n",
    "for example, model X has a better success rate with A (0.97) than model Z (0.68)."
   ]
  },
  {
   "cell_type": "markdown",
   "id": "ccdd9d3c-5a03-4b30-84f7-a7dfbee1373e",
   "metadata": {},
   "source": [
    "### 2.5 (2 pt)\n",
    "\n",
    "Concerned with your findings so far, you quickly consult with Ms. Sakota. After thinking it over, Ms. Sakota concludes that more tests are needed. She orders a second round of MMLU results. However, the clever Ms. Sakota thinks of the following twist: while keeping questions fixed, she randomly permutes the position of the correct answer. The new results can be found in the folder `data/task_2_5/`:\n",
    "```\n",
    "task_2_5/\n",
    "│\n",
    "└── lm_scores_mmlu_shuffle.csv\n",
    "```\n",
    "\n",
    "/Discuss:/ Why would Ms. Sakota do this?"
   ]
  },
  {
   "cell_type": "markdown",
   "id": "64cc586a",
   "metadata": {},
   "source": [
    "/Discuss:/ She thinks that the model is biased towards the position of the answer : if there are proportionally more answers that are lying under the C mark, it's more rewarding to put C if it's unknown."
   ]
  },
  {
   "cell_type": "markdown",
   "id": "b9150ae0-dbaa-4c88-bf80-ec03127c6945",
   "metadata": {},
   "source": [
    "### 2.6 (4 pt)\n",
    "\n",
    "Increasingly sceptical of the language models' performance, you read up on proper testing practices. You stumble upon the concept of [test-rested stability](https://en.wikipedia.org/wiki/Repeatability), which roughtly states that:\n",
    "\n",
    "\"_Measurements taken by a single person or instrument on the same item, under the same conditions, and in a short period of time, should have the same results._\"\n",
    "\n",
    "In our case, we would assume an LM would have the same performance on a given question regardless of the correct answer position. One way of testing this is by using the following metric:\n",
    "\n",
    "$$\\text{test-retest metric} = \\frac{1}{N}\\sum_{i=1}^N \\frac{1}{M}\\sum_{j=1}^M c^i_0 c_j^i,$$\n",
    "\n",
    "where $c^i_0 \\in \\{0, 1\\}$ indicates whether the model answers the $i^{\\text{th}}$ question correctly (1 if correct, 0 if incorrect). $c_j^i$ indicates whether the model answers the $i^{\\text{th}}$ question correctly in the $j^{\\text{th}}$ shuffled version of the answer label content. Finally, $M$ is the total number of shuffles and $N$ is the dataset size.\n",
    "\n",
    "Task: compute the test-retest metric for each language model using the original `lm_scores_mmlu.csv` file and the new `lm_scores_mmlu_shuffle.csv` file. Using a bar plot, visualize your results by comparing the accuracy of the original `lm_scores_mmlu.csv` and the test-retest scores.\n",
    "\n",
    "**hints**\n",
    "- what is $M$ in our case?\n",
    "\n",
    "(bonus: no points, but so much sweet, sweet knowledge - check out [the following article](https://arxiv.org/pdf/2406.19470v1))"
   ]
  },
  {
   "cell_type": "code",
   "execution_count": 22,
   "id": "5b55fcfc-6de9-4cd3-bf2d-bde399ae2fbc",
   "metadata": {},
   "outputs": [
    {
     "data": {
      "image/png": "[encoded data removed]",
      "text/plain": [
       "<Figure size 800x600 with 1 Axes>"
      ]
     },
     "metadata": {},
     "output_type": "display_data"
    }
   ],
   "source": [
    "# Load the shuffled data\n",
    "df_mmlu_shuffle = pd.read_csv('task_2_5/lm_scores_mmlu_shuffle.csv')\n",
    "\n",
    "# Here in our case M is 1\n",
    "test_retest_metric_mmlu = np.mean(df_mmlu_shuffle['correct'] * df_mmlu['correct'])\n",
    "\n",
    "# Calculate the mean accuracy for the original MMLU data\n",
    "mean_accuracy_mmlu = df_mmlu['correct'].mean()\n",
    "\n",
    "# Create a dataframe to hold the comparison\n",
    "comparison_df = pd.DataFrame({\n",
    "    'Metric': ['Mean Accuracy', 'Test-Retest Metric'],\n",
    "    'Value': [mean_accuracy_mmlu, test_retest_metric_mmlu]\n",
    "})\n",
    "\n",
    "# Plot the comparison using seaborn\n",
    "plt.figure(figsize=(8, 6))\n",
    "sns.barplot(x='Metric', y='Value', data=comparison_df)\n",
    "plt.title('Comparison of Mean Accuracy and Test-Retest Metric')\n",
    "plt.ylabel('Accuracy')\n",
    "plt.ylim(0, 1)\n",
    "plt.show()"
   ]
  },
  {
   "cell_type": "markdown",
   "id": "b70bee6e-0c81-4f5a-b1a8-16a96aa2ae17",
   "metadata": {},
   "source": [
    "### 2.7 (2 pt)\n",
    "\n",
    "A. Using the unshuffled data: For each LM, print the distribution of the answers they give as well as the accuracy conditioned on the answer they give.\n",
    "\n",
    "B. /Discuss:/ Describe what you observe\n",
    "\n",
    "[bonus: not scored, but again _that sweet, sweet knowledge_] Could you think of a plausible explanation?"
   ]
  },
  {
   "cell_type": "code",
   "execution_count": 23,
   "id": "4956581b-d047-46cb-ae71-1508a9a0b466",
   "metadata": {},
   "outputs": [
    {
     "name": "stdout",
     "output_type": "stream",
     "text": [
      "Distribution of answers given by model X:\n",
      "result\n",
      "A    0.364142\n",
      "B    0.227343\n",
      "C    0.205968\n",
      "D    0.202548\n",
      "Name: proportion, dtype: float64\n",
      "\n",
      "Distribution of answers given by model Y:\n",
      "result\n",
      "A    0.091655\n",
      "B    0.192886\n",
      "C    0.257780\n",
      "D    0.457678\n",
      "Name: proportion, dtype: float64\n",
      "\n",
      "Distribution of answers given by model Z:\n",
      "result\n",
      "A    0.186047\n",
      "B    0.246666\n",
      "C    0.276761\n",
      "D    0.290527\n",
      "Name: proportion, dtype: float64\n",
      "\n",
      "Accuracy conditioned on the answer given by model X:\n",
      "result\n",
      "A    0.367927\n",
      "B    0.884543\n",
      "C    1.000000\n",
      "D    1.000000\n",
      "Name: correct, dtype: float64\n",
      "\n",
      "Accuracy conditioned on the answer given by model Y:\n",
      "result\n",
      "A    0.937500\n",
      "B    0.897606\n",
      "C    0.827861\n",
      "D    0.631608\n",
      "Name: correct, dtype: float64\n",
      "\n",
      "Accuracy conditioned on the answer given by model Z:\n",
      "result\n",
      "A    0.476103\n",
      "B    0.654073\n",
      "C    0.703429\n",
      "D    0.727487\n",
      "Name: correct, dtype: float64\n"
     ]
    }
   ],
   "source": [
    "# A\n",
    "# Calculate the distribution of answers given by each LM\n",
    "distribution_x = df_mmlu[df_mmlu['model_name'] == 'X']['result'].value_counts(normalize=True).reindex(['A', 'B', 'C', 'D'])\n",
    "distribution_y = df_mmlu[df_mmlu['model_name'] == 'Y']['result'].value_counts(normalize=True).reindex(['A', 'B', 'C', 'D'])\n",
    "distribution_z = df_mmlu[df_mmlu['model_name'] == 'Z']['result'].value_counts(normalize=True).reindex(['A', 'B', 'C', 'D'])\n",
    "\n",
    "print(\"Distribution of answers given by model X:\")\n",
    "print(distribution_x)\n",
    "\n",
    "print(\"\\nDistribution of answers given by model Y:\")\n",
    "print(distribution_y)\n",
    "\n",
    "print(\"\\nDistribution of answers given by model Z:\")\n",
    "print(distribution_z)\n",
    "\n",
    "# Calculate the accuracy conditioned on the answer given by each LM\n",
    "accuracy_x_conditioned = df_mmlu[df_mmlu['model_name'] == 'X'].groupby('result')['correct'].mean()\n",
    "accuracy_y_conditioned = df_mmlu[df_mmlu['model_name'] == 'Y'].groupby('result')['correct'].mean()\n",
    "accuracy_z_conditioned = df_mmlu[df_mmlu['model_name'] == 'Z'].groupby('result')['correct'].mean()\n",
    "\n",
    "print(\"\\nAccuracy conditioned on the answer given by model X:\")\n",
    "print(accuracy_x_conditioned)\n",
    "\n",
    "print(\"\\nAccuracy conditioned on the answer given by model Y:\")\n",
    "print(accuracy_y_conditioned)\n",
    "\n",
    "print(\"\\nAccuracy conditioned on the answer given by model Z:\")\n",
    "print(accuracy_z_conditioned)"
   ]
  },
  {
   "cell_type": "markdown",
   "id": "65639228",
   "metadata": {},
   "source": [
    "B. /Discuss:/ We can see that according to the accuracy conditioned on answer, the best model to behave on average would be the model Y. However this varies according to the answer : the answer C is correctly replied everytime by model X, but is only replied well on 70% of time by model Z. \n",
    "Distributions are also different according to models. Model X fairly distributes all answers, whereas nearly half of answers of model Y are answer D. "
   ]
  },
  {
   "cell_type": "markdown",
   "id": "ce3186fe-ef8e-4af3-9a07-a6081d454e5a",
   "metadata": {},
   "source": [
    "## Task 3 (16 points): What do Questions and Answers look like for a Language Model?\n",
    "\n",
    "While you feel pretty good about the tests you conducted so far, something still bothers you: what if the language models don't see the data like you do? Suddenly, you receive a phone call from a wise AI sage in the West, _Westoda_:\n",
    "\n",
    "```\n",
    "\"Hmm, correct you are, young padawan, to question how the world is seen by large language models! Simple 'text' it is not, hmm? No, no, no! Characters and words, the way of puny humans, this is not, heh heh heh.\n",
    "\n",
    "'Tokens', they use, yes! Mysterious and powerful, these tokens are. Expand our vocabulary, they do, beyond the simple 'a to Z'. Chunky blocks of text, they become, yes! 'Hello world', a simple phrase it may seem. But to a language model, '[24912, 2375]' it might appear, yes! Confusing, it is, hmm?\n",
    "\n",
    "Wise, it would be, to explore these MMLU data points through the eyes of a language model, you think? Yes, yes! Much to learn, there is. The ways of the tokens, understand you must, if truly comprehend the great LMs, you wish to.\n",
    "Meditate on this, you should. The force of natural language processing, strong it is. But patience, you must have, my young padawan. For only through great study and contemplation, will the mysteries of the tokens reveal themselves to you, they will. Yes, hmmm!\"\n",
    "```\n",
    "\n",
    "Admittingly, Westoda at times speaks in riddles… However, he was explaining a crucial aspect of modern LMs called [Tokenization](https://learn.microsoft.com/en-us/dotnet/ai/conceptual/understanding-tokens):\n",
    "\n",
    "\n",
    "“Tokens are words, character sets, or combinations of words and punctuation that are used by [language models (LMs)] to decompose text into. Tokenization is the first step in training”\n",
    "\n",
    "Instead of characters, LMs process natural language using “tokens”. While this is useful for a number of reasons, it does at times introduce some “unintuitive” behavior…"
   ]
  },
  {
   "cell_type": "code",
   "execution_count": 36,
   "id": "e2c66517-938b-4331-9eea-1b23fe4ad9e7",
   "metadata": {},
   "outputs": [
    {
     "name": "stdout",
     "output_type": "stream",
     "text": [
      "humans see: \"hello world\" --> language models see: [24912, 2375]\n"
     ]
    }
   ],
   "source": [
    "# PROVIDED CODE\n",
    "\n",
    "try:\n",
    "    import tiktoken\n",
    "except Exception as e:\n",
    "    print('installing tiktoken package')\n",
    "    \n",
    "    !pip install tiktoken\n",
    "    \n",
    "    import tiktoken\n",
    "\n",
    "def tokenize_text(s):\n",
    "    enc = tiktoken.encoding_for_model('gpt-4o')\n",
    "    tokens = enc.encode(str(s))\n",
    "    return tokens\n",
    "\n",
    "example_string = 'hello world'\n",
    "print(f'humans see: \"{example_string}\" --> language models see: {tokenize_text(example_string)}')"
   ]
  },
  {
   "cell_type": "markdown",
   "id": "3c8019ee-7d52-496f-afff-c96f2f9db08c",
   "metadata": {},
   "source": [
    "### 3.1 (5 pt)\n",
    "\n",
    "Use the provided code in the cell above to \"see the world through the eyes of a language model\":\n",
    "\n",
    "A. Tokenize the questions of the original MMLU data provided in task 1: `task_1/mmlu_data/test.csv` and plot the token distribution (the frequency of each token).\n",
    "\n",
    "B. Same as (A), but now for the answers in columns (columns \"A\", \"B\", \"C\", and \"D\").\n",
    "\n",
    "C. Isolate the tokens for the strings \"A\", \"B\", \"C\", and \"D\", then, for their occurances in both questions and answers, print their relative distribution to each other.\n",
    "\n",
    "**hint**\n",
    "- There are a _lot_ of tokens, consider using a cutoff point and log scale\n",
    "- For (c), they should sum to 1"
   ]
  },
  {
   "cell_type": "code",
   "execution_count": 46,
   "id": "a9a1e97b-3a31-41b1-a9c3-fb84cb1740d9",
   "metadata": {},
   "outputs": [
    {
     "name": "stdout",
     "output_type": "stream",
     "text": [
      "801983\n"
     ]
    },
    {
     "data": {
      "image/png": "[encoded data removed]",
      "text/plain": [
       "<Figure size 1200x600 with 1 Axes>"
      ]
     },
     "metadata": {},
     "output_type": "display_data"
    }
   ],
   "source": [
    "# A\n",
    "\n",
    "df_test['tokens'] = df_test['question'].apply(tokenize_text)\n",
    "# Flatten the list of tokens\n",
    "all_tokens = df_test[\"tokens\"].explode()\n",
    "print(len(df_test[\"tokens\"].explode()))\n",
    "# Plot the frequency of each token\n",
    "plt.figure(figsize=(12, 6))\n",
    "sns.histplot(all_tokens, bins=2000, kde=False)\n",
    "plt.yscale('log')\n",
    "plt.title('Token Frequency Distribution')\n",
    "plt.xlabel('Token')\n",
    "plt.ylabel('Frequency (log scale)')\n",
    "plt.show()\n"
   ]
  },
  {
   "cell_type": "code",
   "execution_count": 26,
   "id": "fe1f8be8",
   "metadata": {},
   "outputs": [
    {
     "data": {
      "image/png": "[encoded data removed]",
      "text/plain": [
       "<Figure size 1200x600 with 4 Axes>"
      ]
     },
     "metadata": {},
     "output_type": "display_data"
    }
   ],
   "source": [
    "# B\n",
    "# Tokenize the answers in columns \"A\", \"B\", \"C\", and \"D\"\n",
    "df_test['tokens_A'] = df_test['A'].apply(tokenize_text)\n",
    "df_test['tokens_B'] = df_test['B'].apply(tokenize_text)\n",
    "df_test['tokens_C'] = df_test['C'].apply(tokenize_text)\n",
    "df_test['tokens_D'] = df_test['D'].apply(tokenize_text)\n",
    "\n",
    "# Flatten the list of tokens for each answer column\n",
    "all_tokens_A = [token for sublist in df_test['tokens_A'] for token in sublist]\n",
    "all_tokens_B = [token for sublist in df_test['tokens_B'] for token in sublist]\n",
    "all_tokens_C = [token for sublist in df_test['tokens_C'] for token in sublist]\n",
    "all_tokens_D = [token for sublist in df_test['tokens_D'] for token in sublist]\n",
    "\n",
    "# Plot the frequency of each token for each answer column separately\n",
    "plt.figure(figsize=(12, 6))\n",
    "\n",
    "plt.subplot(2, 2, 1)\n",
    "sns.histplot(all_tokens_A, bins=50, kde=False)\n",
    "plt.yscale('log')\n",
    "plt.title('Token Frequency Distribution for Answer A')\n",
    "plt.xlabel('Token')\n",
    "plt.ylabel('Frequency (log scale)')\n",
    "\n",
    "plt.subplot(2, 2, 2)\n",
    "sns.histplot(all_tokens_B, bins=50, kde=False)\n",
    "plt.yscale('log')\n",
    "plt.title('Token Frequency Distribution for Answer B')\n",
    "plt.xlabel('Token')\n",
    "plt.ylabel('Frequency (log scale)')\n",
    "\n",
    "plt.subplot(2, 2, 3)\n",
    "sns.histplot(all_tokens_C, bins=50, kde=False)\n",
    "plt.yscale('log')\n",
    "plt.title('Token Frequency Distribution for Answer C')\n",
    "plt.xlabel('Token')\n",
    "plt.ylabel('Frequency (log scale)')\n",
    "\n",
    "plt.subplot(2, 2, 4)\n",
    "sns.histplot(all_tokens_D, bins=50, kde=False)\n",
    "plt.yscale('log')\n",
    "plt.title('Token Frequency Distribution for Answer D')\n",
    "plt.xlabel('Token')\n",
    "plt.ylabel('Frequency (log scale)')\n",
    "\n",
    "plt.tight_layout()\n",
    "plt.show()\n",
    "\n"
   ]
  },
  {
   "cell_type": "code",
   "execution_count": 48,
   "id": "cd392df7",
   "metadata": {},
   "outputs": [
    {
     "name": "stdout",
     "output_type": "stream",
     "text": [
      "{'A': 0.7916865742952699, 'B': 0.06020066889632107, 'C': 0.10152890587673197, 'D': 0.046583850931677016}\n"
     ]
    }
   ],
   "source": [
    "# C\n",
    "# Tokenize the strings \"A\", \"B\", \"C\", \"D\"\n",
    "tokens_A = tokenize_text(\"A\")\n",
    "tokens_B = tokenize_text(\"B\")\n",
    "tokens_C = tokenize_text(\"C\")\n",
    "tokens_D = tokenize_text(\"D\")\n",
    "\n",
    "all_tokens = df_test[\"tokens\"]\n",
    "# Combine all answer tokens into one list\n",
    "all_tokens_answers = all_tokens_A + all_tokens_B + all_tokens_C + all_tokens_D\n",
    "\n",
    "# Find how often tokens for \"A\", \"B\", \"C\", \"D\" occur in each tokenized question-answers pair\n",
    "token_counts = {\n",
    "    'A': sum([tokens.count(token) for tokens in all_tokens for token in tokens_A]) + sum([all_tokens_answers.count(token) for token in tokens_A]),\n",
    "    'B': sum([tokens.count(token) for tokens in all_tokens for token in tokens_B]) + sum([all_tokens_answers.count(token) for token in tokens_B]),\n",
    "    'C': sum([tokens.count(token) for tokens in all_tokens for token in tokens_C]) + sum([all_tokens_answers.count(token) for token in tokens_C]),\n",
    "    'D': sum([tokens.count(token) for tokens in all_tokens for token in tokens_D]) + sum([all_tokens_answers.count(token) for token in tokens_D])\n",
    "}\n",
    "# Print the relative distribution\n",
    "total_tokens = sum(token_counts.values())\n",
    "relative_distribution = {k: v / total_tokens for k, v in token_counts.items()}\n",
    "print(relative_distribution)\n",
    "\n"
   ]
  },
  {
   "cell_type": "markdown",
   "id": "a674929c-68e1-4cd8-97b3-efa0cdae4874",
   "metadata": {},
   "source": [
    "### 3.2 (3 pt)\n",
    "\n",
    "What if the number of \"A\", \"B\", \"C\", and \"D\" tokens in the question and answer pairs could influence a language model's decisions?\n",
    "\n",
    "A. For each combined question-answers pair, compute: \n",
    "1. the number of \"A\", \"B\", \"C\", and \"D\" tokens; and\n",
    "2. the total number of tokens.\n",
    "3. then, group by the \"correct\" answer and compute the mean frequency of A, B, C, and D tokens and the total number of tokens. \n",
    "4. finally, print your results\n",
    "\n",
    "B. /Discuss:/ What do you think of the hypothesis that the frequency of A, B, C, and D tokens could influence answers?\n"
   ]
  },
  {
   "cell_type": "code",
   "execution_count": 134,
   "id": "25419cc1-f058-4c51-a0aa-577272b8b578",
   "metadata": {},
   "outputs": [
    {
     "name": "stdout",
     "output_type": "stream",
     "text": [
      "           num_A     num_B     num_C     num_D  total_number_of_tokens\n",
      "answer                                                                \n",
      "A       1.152700  0.004035  0.004966  0.002793               59.095903\n",
      "B       0.164067  1.008954  0.007510  0.003466               56.727325\n",
      "C       0.152987  0.005583  1.008654  0.004467               58.992462\n",
      "D       0.160487  0.003708  0.007680  1.003708               57.711070\n"
     ]
    }
   ],
   "source": [
    "# A\n",
    "# Compute the number of \"A\", \"B\", \"C\", and \"D\" tokens for each combined question-answers pair\n",
    "# Compute the tokens of the answer and name it \"token_answer\"\n",
    "df_test['token_answer'] = df_test['answer'].apply(tokenize_text)\n",
    "\n",
    "df_test[\"total_number_of_tokens\"] = df_test[\"tokens\"] + df_test[\"token_answer\"]\n",
    "\n",
    "for index, row in df_test.iterrows():\n",
    "\n",
    "    # Compute the number of \"A\", \"B\", \"C\", and \"D\" tokens for each combined question-answers pair\n",
    "    df_test.at[index, 'num_A'] = row['total_number_of_tokens'].count(tokens_A[0])\n",
    "    df_test.at[index, 'num_B'] = row['total_number_of_tokens'].count(tokens_B[0])\n",
    "    df_test.at[index, 'num_C'] = row['total_number_of_tokens'].count(tokens_C[0])\n",
    "    df_test.at[index, 'num_D'] = row['total_number_of_tokens'].count(tokens_D[0])\n",
    "\n",
    "\n",
    "\n",
    "#Pas sur de cette partie\n",
    "# Group by the \"correct\" answer and compute the mean frequency of A, B, C, and D tokens and the total number of tokens\n",
    "mean_frequencies = df_test.groupby('answer').agg({\n",
    "    'num_A': 'mean',\n",
    "    'num_B': 'mean',\n",
    "    'num_C': 'mean',\n",
    "    'num_D': 'mean',\n",
    "    'total_number_of_tokens': lambda x: np.mean([len(tokens) for tokens in x])\n",
    "})\n",
    "\n",
    "print(mean_frequencies)\n"
   ]
  },
  {
   "cell_type": "markdown",
   "id": "3ea8a279",
   "metadata": {},
   "source": [
    "B. /Discuss:/ "
   ]
  },
  {
   "cell_type": "markdown",
   "id": "af25ef95-d2ce-4112-87f7-8b0a52755e2a",
   "metadata": {},
   "source": [
    "### 3.3 (4 pt)\n",
    "\n",
    "Three of the most important considerations when deciding between language models are:\n",
    "\n",
    "Quality\n",
    "Costs\n",
    "Speed\n",
    "\n",
    "So far, much of your analysis has focused on quality. However, the government has indicated that they are quite concerned about both the total costs and speed as well. Specifically, it has been brought to their attention that a new `turbo` model has been launched! \n",
    "\n",
    "This model is both cheaper and faster than the models you evaluated so far. However, there is a catch: the context length* is much smaller than that of the other LMS. Namely, it can only process **300** tokens during inference. Meanwhile, the other models can process up to 100K tokens! \n",
    "\n",
    "*_The “context length” refers to the number of tokens that can be given to an LM as input._\n",
    "\n",
    "A. Are there subjects where using the cheaper model might be problematic? I.e., where part of the question and answer(s) might not fit completely in the context?\n",
    "\n",
    "B. /Discuss:/ Can you think of a strategy that would balance the needs of the government?\n",
    "\n",
    "**hint**:\n",
    "- An LM needs to have both the question and the different answer options in its context"
   ]
  },
  {
   "cell_type": "code",
   "execution_count": 50,
   "id": "a88a6fa3-2735-44d7-9944-076cc9f679ed",
   "metadata": {},
   "outputs": [
    {
     "ename": "KeyError",
     "evalue": "'total_number_of_tokens'",
     "output_type": "error",
     "traceback": [
      "\u001b[1;31m---------------------------------------------------------------------------\u001b[0m",
      "\u001b[1;31mKeyError\u001b[0m                                  Traceback (most recent call last)",
      "File \u001b[1;32md:\\Anaconda\\envs\\ada\\Lib\\site-packages\\pandas\\core\\indexes\\base.py:3805\u001b[0m, in \u001b[0;36mIndex.get_loc\u001b[1;34m(self, key)\u001b[0m\n\u001b[0;32m   3804\u001b[0m \u001b[38;5;28;01mtry\u001b[39;00m:\n\u001b[1;32m-> 3805\u001b[0m     \u001b[38;5;28;01mreturn\u001b[39;00m \u001b[38;5;28mself\u001b[39m\u001b[38;5;241m.\u001b[39m_engine\u001b[38;5;241m.\u001b[39mget_loc(casted_key)\n\u001b[0;32m   3806\u001b[0m \u001b[38;5;28;01mexcept\u001b[39;00m \u001b[38;5;167;01mKeyError\u001b[39;00m \u001b[38;5;28;01mas\u001b[39;00m err:\n",
      "File \u001b[1;32mindex.pyx:167\u001b[0m, in \u001b[0;36mpandas._libs.index.IndexEngine.get_loc\u001b[1;34m()\u001b[0m\n",
      "File \u001b[1;32mindex.pyx:196\u001b[0m, in \u001b[0;36mpandas._libs.index.IndexEngine.get_loc\u001b[1;34m()\u001b[0m\n",
      "File \u001b[1;32mpandas\\\\_libs\\\\hashtable_class_helper.pxi:7081\u001b[0m, in \u001b[0;36mpandas._libs.hashtable.PyObjectHashTable.get_item\u001b[1;34m()\u001b[0m\n",
      "File \u001b[1;32mpandas\\\\_libs\\\\hashtable_class_helper.pxi:7089\u001b[0m, in \u001b[0;36mpandas._libs.hashtable.PyObjectHashTable.get_item\u001b[1;34m()\u001b[0m\n",
      "\u001b[1;31mKeyError\u001b[0m: 'total_number_of_tokens'",
      "\nThe above exception was the direct cause of the following exception:\n",
      "\u001b[1;31mKeyError\u001b[0m                                  Traceback (most recent call last)",
      "Cell \u001b[1;32mIn[50], line 6\u001b[0m\n\u001b[0;32m      4\u001b[0m subjects_over_300 \u001b[38;5;241m=\u001b[39m \u001b[38;5;28mset\u001b[39m()\n\u001b[0;32m      5\u001b[0m \u001b[38;5;28;01mfor\u001b[39;00m index, row \u001b[38;5;129;01min\u001b[39;00m df_test\u001b[38;5;241m.\u001b[39miterrows():\n\u001b[1;32m----> 6\u001b[0m     total_tokens \u001b[38;5;241m=\u001b[39m row[\u001b[38;5;124m'\u001b[39m\u001b[38;5;124mtotal_number_of_tokens\u001b[39m\u001b[38;5;124m'\u001b[39m]\n\u001b[0;32m      7\u001b[0m     \u001b[38;5;28;01mif\u001b[39;00m total_tokens \u001b[38;5;241m>\u001b[39m \u001b[38;5;241m300\u001b[39m:\n\u001b[0;32m      8\u001b[0m         subjects_over_300\u001b[38;5;241m.\u001b[39madd(row[\u001b[38;5;124m\"\u001b[39m\u001b[38;5;124msubject\u001b[39m\u001b[38;5;124m\"\u001b[39m])\n",
      "File \u001b[1;32md:\\Anaconda\\envs\\ada\\Lib\\site-packages\\pandas\\core\\series.py:1121\u001b[0m, in \u001b[0;36mSeries.__getitem__\u001b[1;34m(self, key)\u001b[0m\n\u001b[0;32m   1118\u001b[0m     \u001b[38;5;28;01mreturn\u001b[39;00m \u001b[38;5;28mself\u001b[39m\u001b[38;5;241m.\u001b[39m_values[key]\n\u001b[0;32m   1120\u001b[0m \u001b[38;5;28;01melif\u001b[39;00m key_is_scalar:\n\u001b[1;32m-> 1121\u001b[0m     \u001b[38;5;28;01mreturn\u001b[39;00m \u001b[38;5;28mself\u001b[39m\u001b[38;5;241m.\u001b[39m_get_value(key)\n\u001b[0;32m   1123\u001b[0m \u001b[38;5;66;03m# Convert generator to list before going through hashable part\u001b[39;00m\n\u001b[0;32m   1124\u001b[0m \u001b[38;5;66;03m# (We will iterate through the generator there to check for slices)\u001b[39;00m\n\u001b[0;32m   1125\u001b[0m \u001b[38;5;28;01mif\u001b[39;00m is_iterator(key):\n",
      "File \u001b[1;32md:\\Anaconda\\envs\\ada\\Lib\\site-packages\\pandas\\core\\series.py:1237\u001b[0m, in \u001b[0;36mSeries._get_value\u001b[1;34m(self, label, takeable)\u001b[0m\n\u001b[0;32m   1234\u001b[0m     \u001b[38;5;28;01mreturn\u001b[39;00m \u001b[38;5;28mself\u001b[39m\u001b[38;5;241m.\u001b[39m_values[label]\n\u001b[0;32m   1236\u001b[0m \u001b[38;5;66;03m# Similar to Index.get_value, but we do not fall back to positional\u001b[39;00m\n\u001b[1;32m-> 1237\u001b[0m loc \u001b[38;5;241m=\u001b[39m \u001b[38;5;28mself\u001b[39m\u001b[38;5;241m.\u001b[39mindex\u001b[38;5;241m.\u001b[39mget_loc(label)\n\u001b[0;32m   1239\u001b[0m \u001b[38;5;28;01mif\u001b[39;00m is_integer(loc):\n\u001b[0;32m   1240\u001b[0m     \u001b[38;5;28;01mreturn\u001b[39;00m \u001b[38;5;28mself\u001b[39m\u001b[38;5;241m.\u001b[39m_values[loc]\n",
      "File \u001b[1;32md:\\Anaconda\\envs\\ada\\Lib\\site-packages\\pandas\\core\\indexes\\base.py:3812\u001b[0m, in \u001b[0;36mIndex.get_loc\u001b[1;34m(self, key)\u001b[0m\n\u001b[0;32m   3807\u001b[0m     \u001b[38;5;28;01mif\u001b[39;00m \u001b[38;5;28misinstance\u001b[39m(casted_key, \u001b[38;5;28mslice\u001b[39m) \u001b[38;5;129;01mor\u001b[39;00m (\n\u001b[0;32m   3808\u001b[0m         \u001b[38;5;28misinstance\u001b[39m(casted_key, abc\u001b[38;5;241m.\u001b[39mIterable)\n\u001b[0;32m   3809\u001b[0m         \u001b[38;5;129;01mand\u001b[39;00m \u001b[38;5;28many\u001b[39m(\u001b[38;5;28misinstance\u001b[39m(x, \u001b[38;5;28mslice\u001b[39m) \u001b[38;5;28;01mfor\u001b[39;00m x \u001b[38;5;129;01min\u001b[39;00m casted_key)\n\u001b[0;32m   3810\u001b[0m     ):\n\u001b[0;32m   3811\u001b[0m         \u001b[38;5;28;01mraise\u001b[39;00m InvalidIndexError(key)\n\u001b[1;32m-> 3812\u001b[0m     \u001b[38;5;28;01mraise\u001b[39;00m \u001b[38;5;167;01mKeyError\u001b[39;00m(key) \u001b[38;5;28;01mfrom\u001b[39;00m \u001b[38;5;21;01merr\u001b[39;00m\n\u001b[0;32m   3813\u001b[0m \u001b[38;5;28;01mexcept\u001b[39;00m \u001b[38;5;167;01mTypeError\u001b[39;00m:\n\u001b[0;32m   3814\u001b[0m     \u001b[38;5;66;03m# If we have a listlike key, _check_indexing_error will raise\u001b[39;00m\n\u001b[0;32m   3815\u001b[0m     \u001b[38;5;66;03m#  InvalidIndexError. Otherwise we fall through and re-raise\u001b[39;00m\n\u001b[0;32m   3816\u001b[0m     \u001b[38;5;66;03m#  the TypeError.\u001b[39;00m\n\u001b[0;32m   3817\u001b[0m     \u001b[38;5;28mself\u001b[39m\u001b[38;5;241m.\u001b[39m_check_indexing_error(key)\n",
      "\u001b[1;31mKeyError\u001b[0m: 'total_number_of_tokens'"
     ]
    }
   ],
   "source": [
    "# A\n",
    "\n",
    "# Iterate over the number of tokens and subjects\n",
    "subjects_over_300 = set()\n",
    "for index, row in df_test.iterrows():\n",
    "    total_tokens = row['total_number_of_tokens']\n",
    "    if total_tokens > 300:\n",
    "        subjects_over_300.add(row[\"subject\"])\n",
    "\n",
    "print(subjects_over_300)\n"
   ]
  },
  {
   "cell_type": "markdown",
   "id": "47f8a44a",
   "metadata": {},
   "source": [
    "B. /Dicsuss:/ We would use the LM that is cheaper and faster for the uses under 300 tokens, while we reserve the use of other models when in need of more token processing"
   ]
  },
  {
   "cell_type": "markdown",
   "id": "110f07bf-558f-467c-8f66-d88db561d455",
   "metadata": {},
   "source": [
    "### 3.4 (4 pt)\n",
    "\n",
    "/Discuss:/ The time has come to give your final recommendation on the use of LMs in education to the government! Taking into account everything you analyzed in all the preceding tasks (1, 2, and 3), please write a short recommendation consisting of 4 bullet points discussing your concerns.\n",
    "\n",
    "**hint**\n",
    "- Try to use the MECE framework: _Mutually Exclusive Collectively Exhaustive_"
   ]
  },
  {
   "cell_type": "markdown",
   "id": "434a5fa5",
   "metadata": {},
   "source": [
    "/Discuss:/\n",
    "1. \n",
    "\n",
    "2. \n",
    "\n",
    "3. \n",
    "\n",
    "4. "
   ]
  }
 ],
 "metadata": {
  "kernelspec": {
   "display_name": "ada",
   "language": "python",
   "name": "python3"
  },
  "language_info": {
   "codemirror_mode": {
    "name": "ipython",
    "version": 3
   },
   "file_extension": ".py",
   "mimetype": "text/x-python",
   "name": "python",
   "nbconvert_exporter": "python",
   "pygments_lexer": "ipython3",
   "version": "3.11.9"
  }
 },
 "nbformat": 4,
 "nbformat_minor": 5
}
