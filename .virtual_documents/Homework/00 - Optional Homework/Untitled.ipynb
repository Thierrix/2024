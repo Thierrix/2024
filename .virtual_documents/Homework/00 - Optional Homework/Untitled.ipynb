import pandas as pd
import os


##Reading the data
path_to_data = "./data/"
fname = os.path.join(path_to_data, 'interactive_data.csv')
df = pd.read_csv(fname, index_col=0)
df.head(5)


#Filtering the data
df_filtered = df[(df != "None selected").all(axis=1)]


#Check if the data is filtered
df_filtered.head()


#We want to check the proportion of gun deaths by suicide
#We compute the number of deaths first.
num_deaths = df_filtered["Deaths"].sum()

#Then we compute the number of deaths by suicide
death_suicide = df_filtered[df_filtered["Intent"] == "Suicide"]
num_deaths_by_suicide = death_suicide["Deaths"].sum()

#Finally, we compute the percentage and dislay it
percentage_death_gun_suicides = num_deaths_by_suicide / num_deaths * 100
print(round(percentage_death_gun_suicides, 2))


#We want to check the percentage of male suicide victims

#We compute the number of males who comitted suicide
death_suicide = df_filtered[df_filtered["Intent"] == "Suicide"]
num_males_suicide = death_suicide[death_suicide["Gender"] == "Male"]["Deaths"].sum()

#We compute the number of suicides
num_suicides = death_suicide["Deaths"].sum()

#Finally, we compute the percentage and round it.
percentage_male_suicide = num_males_suicide / num_suicides * 100
print(round(percentage_male_suicide, 2))


#Now, we check how many gun deaths are homicides (as a proportion)

num_death_homicides = df_filtered[df_filtered["Intent"] == "Homicide"]["Deaths"].sum()
num_deaths = df_filtered["Deaths"].sum()

percentage_homicides = num_death_homicides / num_deaths * 100
print(round(percentage_homicides, 2))


#We want to compute the percentage of homicide victims who are *males* in the *age-group of 15--34* are black

homicide_male_young_victims = df_filtered[(df_filtered["Intent"] == "Homicide") & 
                                        (df_filtered["Gender"] == "Male") & 
                                        (df_filtered["Age"] == "15 - 34")]
num_young_black_homicide_male_victims = homicide_male_young_victims[homicide_male_young_victims["Race"] == "Black"]["Deaths"].sum()
num_homicide_male_young_victims = homicide_male_young_victims["Deaths"].sum()

percentage_homicides_black_young_male = num_young_black_homicide_male_victims / num_homicide_male_young_victims * 100
print(round(percentage_homicides_black_young_male, 2))


#We want to compute the percentage of women who are victim of homicide

num_women_homicides = df_filtered[(df_filtered["Gender"] == "Female") & (df_filtered["Intent"] == "Homicide")]["Deaths"].sum()

num_homicides = df_filtered[df_filtered["Intent"] == "Homicide"]["Deaths"].sum()

percentage_women_homicides = num_women_homicides / num_homicides * 100

print(round(percentage_women_homicides, 2))



