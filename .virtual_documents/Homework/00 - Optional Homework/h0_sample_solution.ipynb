import pandas as pd
import os


## Reading the 'interactive_data.csv' file as a pandas dataframe
PATH_IN = './data/'
fname = os.path.join(PATH_IN, 'interactive_data.csv')
df = pd.read_csv(fname, index_col=0)
df.head(5)


## Note that there are other ways to approach this analysis, the following is one possible correct solution.
## The file 'interactive_data.csv' contains aggregations across different categorical filters.
## Specifically, 'None selected' corresponds to the case when a filter is not applied to a column.
## Thus, such cases correspond to all possible values under that column.
## For example, if all columns have the entry 'None selected', then this corresponds to an aggregation across all entries.
## Thus, the first pre-processing step is to remove rows where at least one column has the value 'None selected'.
df_filtered = df.loc[~(df=='None selected').any(axis=1)]


## Compute #deaths
all_deaths = df_filtered['Deaths'].sum()

## Compute #suicides
suicides = df_filtered[df_filtered['Intent'] == 'Suicide']['Deaths'].sum()
print(f'{suicides/all_deaths*100}% of gun deaths are suicides.')

## Compute #male-suicides
male_suicides = df_filtered[
                    (df_filtered['Intent'] == 'Suicide') & 
                    (df_filtered['Gender'] == 'Male')
                ]['Deaths'].sum()
print(f'{male_suicides/suicides*100}% of suicide victims are male.')

## Compute #homicides
homicides = df_filtered[
                (df_filtered['Intent'] == 'Homicide')
            ]['Deaths'].sum()
print(f'{homicides/all_deaths*100}% of gun deaths are homicides.')

## Compute #young-black-male-homicides
young_black_male_homicides = df_filtered[
                                (df_filtered['Intent'] == 'Homicide') & 
                                (df_filtered['Gender'] == 'Male') & 
                                (df_filtered['Age'] == '15 - 34') & 
                                (df_filtered['Race'] == 'Black')
                            ]['Deaths'].sum()

## Compute #young-male-homicides
young_male_homicides = df_filtered[
                            (df_filtered['Intent'] == 'Homicide') & 
                            (df_filtered['Gender'] == 'Male') & 
                            (df_filtered['Age'] == '15 - 34')
                        ]['Deaths'].sum()
print(f'{young_black_male_homicides/young_male_homicides*100}% of homicide victims who are males in the age-group of 15--34 are black.')

## Compute #women-homicides
women_homicides = df_filtered[
                        (df_filtered['Intent'] == 'Homicide') & 
                        (df_filtered['Gender'] == 'Female')
                    ]['Deaths'].sum()
print(f'Women constitue only {women_homicides/homicides*100}% of the total homicide victims.')



