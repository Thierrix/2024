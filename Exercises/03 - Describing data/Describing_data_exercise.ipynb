{
 "cells": [
  {
   "cell_type": "markdown",
   "metadata": {},
   "source": [
    "# Describing Data\n",
    "\n",
    "### What do you find in this notebook?\n",
    "\n",
    "In this exercise, first, you will familiarize yourself with the Python libraries 'statsmodels' and 'SciPy' that let you do statistical analysis: calculate descriptive statistics, sample datapoints, study relationships between variables, and perform hypothesis testing. Then, second, you will work on a set of exercises that will let you practice your skills.\n",
    "\n",
    "Here we show a couple of examples of how to do common analyses, but there are many more useful probability distributions and statistical tests. In the linked documentation, you will find complete information, and a lot more details compared to what is outlined in this notebook:\n",
    "- [statsmodels](https://www.statsmodels.org/stable/examples/index.html), [more complete documentation](https://www.statsmodels.org/stable/stats.html)\n",
    "- [SciPy](https://docs.scipy.org/doc/scipy/reference/stats.html)"
   ]
  },
  {
   "cell_type": "markdown",
   "metadata": {},
   "source": [
    "# Tutorial: How to use the libraries\n",
    "\n",
    "- You will be working with the full US 2015 census dataset (acs2015_county_data.csv, available at https://www.kaggle.com/muonneutrino/us-census-demographic-data#acs2015_county_data.csv). Here we load it. Take some time to familiarize yourself with the contents. One row represents one county."
   ]
  },
  {
   "cell_type": "code",
   "execution_count": 1,
   "metadata": {
    "tags": []
   },
   "outputs": [],
   "source": [
    "import pandas as pd\n",
    "import pandas as pd\n",
    "import numpy as np\n",
    "import matplotlib.pyplot as plt\n",
    "%matplotlib inline\n",
    "import seaborn as sns\n",
    "import math\n",
    "\n",
    "#load the statistical libraries\n",
    "from statsmodels.stats import diagnostic\n",
    "from scipy import stats"
   ]
  },
  {
   "cell_type": "code",
   "execution_count": 2,
   "metadata": {
    "tags": []
   },
   "outputs": [],
   "source": [
    "data_folder = './data/'\n",
    "df = pd.read_csv(data_folder + 'acs2015_county_data.csv')"
   ]
  },
  {
   "cell_type": "code",
   "execution_count": 3,
   "metadata": {},
   "outputs": [
    {
     "data": {
      "text/plain": [
       "Index(['CensusId', 'State', 'County', 'TotalPop', 'Men', 'Women', 'Hispanic',\n",
       "       'White', 'Black', 'Native', 'Asian', 'Pacific', 'Citizen', 'Income',\n",
       "       'IncomeErr', 'IncomePerCap', 'IncomePerCapErr', 'Poverty',\n",
       "       'ChildPoverty', 'Professional', 'Service', 'Office', 'Construction',\n",
       "       'Production', 'Drive', 'Carpool', 'Transit', 'Walk', 'OtherTransp',\n",
       "       'WorkAtHome', 'MeanCommute', 'Employed', 'PrivateWork', 'PublicWork',\n",
       "       'SelfEmployed', 'FamilyWork', 'Unemployment'],\n",
       "      dtype='object')"
      ]
     },
     "execution_count": 3,
     "metadata": {},
     "output_type": "execute_result"
    }
   ],
   "source": [
    "df.columns"
   ]
  },
  {
   "cell_type": "code",
   "execution_count": 4,
   "metadata": {},
   "outputs": [
    {
     "data": {
      "text/html": [
       "<div>\n",
       "<style scoped>\n",
       "    .dataframe tbody tr th:only-of-type {\n",
       "        vertical-align: middle;\n",
       "    }\n",
       "\n",
       "    .dataframe tbody tr th {\n",
       "        vertical-align: top;\n",
       "    }\n",
       "\n",
       "    .dataframe thead th {\n",
       "        text-align: right;\n",
       "    }\n",
       "</style>\n",
       "<table border=\"1\" class=\"dataframe\">\n",
       "  <thead>\n",
       "    <tr style=\"text-align: right;\">\n",
       "      <th></th>\n",
       "      <th>CensusId</th>\n",
       "      <th>State</th>\n",
       "      <th>County</th>\n",
       "      <th>TotalPop</th>\n",
       "      <th>Men</th>\n",
       "      <th>Women</th>\n",
       "      <th>Hispanic</th>\n",
       "      <th>White</th>\n",
       "      <th>Black</th>\n",
       "      <th>Native</th>\n",
       "      <th>...</th>\n",
       "      <th>Walk</th>\n",
       "      <th>OtherTransp</th>\n",
       "      <th>WorkAtHome</th>\n",
       "      <th>MeanCommute</th>\n",
       "      <th>Employed</th>\n",
       "      <th>PrivateWork</th>\n",
       "      <th>PublicWork</th>\n",
       "      <th>SelfEmployed</th>\n",
       "      <th>FamilyWork</th>\n",
       "      <th>Unemployment</th>\n",
       "    </tr>\n",
       "  </thead>\n",
       "  <tbody>\n",
       "    <tr>\n",
       "      <th>947</th>\n",
       "      <td>20119</td>\n",
       "      <td>Kansas</td>\n",
       "      <td>Meade</td>\n",
       "      <td>4383</td>\n",
       "      <td>2258</td>\n",
       "      <td>2125</td>\n",
       "      <td>14.4</td>\n",
       "      <td>82.6</td>\n",
       "      <td>0.6</td>\n",
       "      <td>0.2</td>\n",
       "      <td>...</td>\n",
       "      <td>5.6</td>\n",
       "      <td>1.2</td>\n",
       "      <td>6.6</td>\n",
       "      <td>15.0</td>\n",
       "      <td>2137</td>\n",
       "      <td>61.2</td>\n",
       "      <td>28.4</td>\n",
       "      <td>10.3</td>\n",
       "      <td>0.2</td>\n",
       "      <td>2.8</td>\n",
       "    </tr>\n",
       "    <tr>\n",
       "      <th>2852</th>\n",
       "      <td>51067</td>\n",
       "      <td>Virginia</td>\n",
       "      <td>Franklin</td>\n",
       "      <td>56315</td>\n",
       "      <td>27611</td>\n",
       "      <td>28704</td>\n",
       "      <td>2.7</td>\n",
       "      <td>87.0</td>\n",
       "      <td>8.4</td>\n",
       "      <td>0.1</td>\n",
       "      <td>...</td>\n",
       "      <td>3.1</td>\n",
       "      <td>1.2</td>\n",
       "      <td>5.2</td>\n",
       "      <td>29.8</td>\n",
       "      <td>25149</td>\n",
       "      <td>80.1</td>\n",
       "      <td>13.5</td>\n",
       "      <td>6.3</td>\n",
       "      <td>0.2</td>\n",
       "      <td>6.2</td>\n",
       "    </tr>\n",
       "    <tr>\n",
       "      <th>2746</th>\n",
       "      <td>48447</td>\n",
       "      <td>Texas</td>\n",
       "      <td>Throckmorton</td>\n",
       "      <td>1545</td>\n",
       "      <td>724</td>\n",
       "      <td>821</td>\n",
       "      <td>12.7</td>\n",
       "      <td>84.4</td>\n",
       "      <td>0.2</td>\n",
       "      <td>0.0</td>\n",
       "      <td>...</td>\n",
       "      <td>0.0</td>\n",
       "      <td>0.9</td>\n",
       "      <td>9.7</td>\n",
       "      <td>25.6</td>\n",
       "      <td>686</td>\n",
       "      <td>67.5</td>\n",
       "      <td>16.2</td>\n",
       "      <td>16.3</td>\n",
       "      <td>0.0</td>\n",
       "      <td>2.6</td>\n",
       "    </tr>\n",
       "    <tr>\n",
       "      <th>2069</th>\n",
       "      <td>39053</td>\n",
       "      <td>Ohio</td>\n",
       "      <td>Gallia</td>\n",
       "      <td>30565</td>\n",
       "      <td>14900</td>\n",
       "      <td>15665</td>\n",
       "      <td>1.2</td>\n",
       "      <td>93.7</td>\n",
       "      <td>2.5</td>\n",
       "      <td>0.2</td>\n",
       "      <td>...</td>\n",
       "      <td>3.1</td>\n",
       "      <td>1.1</td>\n",
       "      <td>3.0</td>\n",
       "      <td>26.8</td>\n",
       "      <td>11344</td>\n",
       "      <td>81.3</td>\n",
       "      <td>13.1</td>\n",
       "      <td>5.5</td>\n",
       "      <td>0.2</td>\n",
       "      <td>7.5</td>\n",
       "    </tr>\n",
       "    <tr>\n",
       "      <th>81</th>\n",
       "      <td>2158</td>\n",
       "      <td>Alaska</td>\n",
       "      <td>Kusilvak Census Area</td>\n",
       "      <td>7914</td>\n",
       "      <td>4200</td>\n",
       "      <td>3714</td>\n",
       "      <td>1.0</td>\n",
       "      <td>4.5</td>\n",
       "      <td>0.4</td>\n",
       "      <td>87.4</td>\n",
       "      <td>...</td>\n",
       "      <td>47.6</td>\n",
       "      <td>39.1</td>\n",
       "      <td>4.7</td>\n",
       "      <td>5.9</td>\n",
       "      <td>2067</td>\n",
       "      <td>45.4</td>\n",
       "      <td>53.8</td>\n",
       "      <td>0.5</td>\n",
       "      <td>0.3</td>\n",
       "      <td>28.6</td>\n",
       "    </tr>\n",
       "    <tr>\n",
       "      <th>1625</th>\n",
       "      <td>30055</td>\n",
       "      <td>Montana</td>\n",
       "      <td>McCone</td>\n",
       "      <td>1728</td>\n",
       "      <td>925</td>\n",
       "      <td>803</td>\n",
       "      <td>1.5</td>\n",
       "      <td>94.7</td>\n",
       "      <td>0.0</td>\n",
       "      <td>3.2</td>\n",
       "      <td>...</td>\n",
       "      <td>6.0</td>\n",
       "      <td>0.2</td>\n",
       "      <td>13.5</td>\n",
       "      <td>14.7</td>\n",
       "      <td>920</td>\n",
       "      <td>48.8</td>\n",
       "      <td>22.2</td>\n",
       "      <td>27.8</td>\n",
       "      <td>1.2</td>\n",
       "      <td>0.8</td>\n",
       "    </tr>\n",
       "    <tr>\n",
       "      <th>1091</th>\n",
       "      <td>21197</td>\n",
       "      <td>Kentucky</td>\n",
       "      <td>Powell</td>\n",
       "      <td>12447</td>\n",
       "      <td>6114</td>\n",
       "      <td>6333</td>\n",
       "      <td>1.3</td>\n",
       "      <td>96.8</td>\n",
       "      <td>0.4</td>\n",
       "      <td>0.0</td>\n",
       "      <td>...</td>\n",
       "      <td>1.1</td>\n",
       "      <td>1.1</td>\n",
       "      <td>1.8</td>\n",
       "      <td>27.5</td>\n",
       "      <td>4360</td>\n",
       "      <td>77.1</td>\n",
       "      <td>16.4</td>\n",
       "      <td>6.5</td>\n",
       "      <td>0.0</td>\n",
       "      <td>8.3</td>\n",
       "    </tr>\n",
       "    <tr>\n",
       "      <th>1104</th>\n",
       "      <td>21223</td>\n",
       "      <td>Kentucky</td>\n",
       "      <td>Trimble</td>\n",
       "      <td>8783</td>\n",
       "      <td>4363</td>\n",
       "      <td>4420</td>\n",
       "      <td>3.0</td>\n",
       "      <td>96.4</td>\n",
       "      <td>0.0</td>\n",
       "      <td>0.0</td>\n",
       "      <td>...</td>\n",
       "      <td>0.3</td>\n",
       "      <td>1.1</td>\n",
       "      <td>2.3</td>\n",
       "      <td>29.6</td>\n",
       "      <td>3598</td>\n",
       "      <td>83.1</td>\n",
       "      <td>11.1</td>\n",
       "      <td>5.9</td>\n",
       "      <td>0.0</td>\n",
       "      <td>14.6</td>\n",
       "    </tr>\n",
       "    <tr>\n",
       "      <th>616</th>\n",
       "      <td>17043</td>\n",
       "      <td>Illinois</td>\n",
       "      <td>DuPage</td>\n",
       "      <td>930412</td>\n",
       "      <td>456274</td>\n",
       "      <td>474138</td>\n",
       "      <td>13.9</td>\n",
       "      <td>68.6</td>\n",
       "      <td>4.6</td>\n",
       "      <td>0.1</td>\n",
       "      <td>...</td>\n",
       "      <td>1.7</td>\n",
       "      <td>1.1</td>\n",
       "      <td>5.2</td>\n",
       "      <td>29.0</td>\n",
       "      <td>479592</td>\n",
       "      <td>86.1</td>\n",
       "      <td>9.5</td>\n",
       "      <td>4.3</td>\n",
       "      <td>0.2</td>\n",
       "      <td>7.0</td>\n",
       "    </tr>\n",
       "    <tr>\n",
       "      <th>2668</th>\n",
       "      <td>48291</td>\n",
       "      <td>Texas</td>\n",
       "      <td>Liberty</td>\n",
       "      <td>77486</td>\n",
       "      <td>38184</td>\n",
       "      <td>39302</td>\n",
       "      <td>20.0</td>\n",
       "      <td>67.2</td>\n",
       "      <td>10.6</td>\n",
       "      <td>0.2</td>\n",
       "      <td>...</td>\n",
       "      <td>1.6</td>\n",
       "      <td>1.0</td>\n",
       "      <td>0.6</td>\n",
       "      <td>34.2</td>\n",
       "      <td>27767</td>\n",
       "      <td>78.4</td>\n",
       "      <td>13.6</td>\n",
       "      <td>7.8</td>\n",
       "      <td>0.2</td>\n",
       "      <td>11.5</td>\n",
       "    </tr>\n",
       "  </tbody>\n",
       "</table>\n",
       "<p>10 rows × 37 columns</p>\n",
       "</div>"
      ],
      "text/plain": [
       "      CensusId     State                County  TotalPop     Men   Women  \\\n",
       "947      20119    Kansas                 Meade      4383    2258    2125   \n",
       "2852     51067  Virginia              Franklin     56315   27611   28704   \n",
       "2746     48447     Texas          Throckmorton      1545     724     821   \n",
       "2069     39053      Ohio                Gallia     30565   14900   15665   \n",
       "81        2158    Alaska  Kusilvak Census Area      7914    4200    3714   \n",
       "1625     30055   Montana                McCone      1728     925     803   \n",
       "1091     21197  Kentucky                Powell     12447    6114    6333   \n",
       "1104     21223  Kentucky               Trimble      8783    4363    4420   \n",
       "616      17043  Illinois                DuPage    930412  456274  474138   \n",
       "2668     48291     Texas               Liberty     77486   38184   39302   \n",
       "\n",
       "      Hispanic  White  Black  Native  ...  Walk  OtherTransp  WorkAtHome  \\\n",
       "947       14.4   82.6    0.6     0.2  ...   5.6          1.2         6.6   \n",
       "2852       2.7   87.0    8.4     0.1  ...   3.1          1.2         5.2   \n",
       "2746      12.7   84.4    0.2     0.0  ...   0.0          0.9         9.7   \n",
       "2069       1.2   93.7    2.5     0.2  ...   3.1          1.1         3.0   \n",
       "81         1.0    4.5    0.4    87.4  ...  47.6         39.1         4.7   \n",
       "1625       1.5   94.7    0.0     3.2  ...   6.0          0.2        13.5   \n",
       "1091       1.3   96.8    0.4     0.0  ...   1.1          1.1         1.8   \n",
       "1104       3.0   96.4    0.0     0.0  ...   0.3          1.1         2.3   \n",
       "616       13.9   68.6    4.6     0.1  ...   1.7          1.1         5.2   \n",
       "2668      20.0   67.2   10.6     0.2  ...   1.6          1.0         0.6   \n",
       "\n",
       "      MeanCommute  Employed  PrivateWork  PublicWork  SelfEmployed  \\\n",
       "947          15.0      2137         61.2        28.4          10.3   \n",
       "2852         29.8     25149         80.1        13.5           6.3   \n",
       "2746         25.6       686         67.5        16.2          16.3   \n",
       "2069         26.8     11344         81.3        13.1           5.5   \n",
       "81            5.9      2067         45.4        53.8           0.5   \n",
       "1625         14.7       920         48.8        22.2          27.8   \n",
       "1091         27.5      4360         77.1        16.4           6.5   \n",
       "1104         29.6      3598         83.1        11.1           5.9   \n",
       "616          29.0    479592         86.1         9.5           4.3   \n",
       "2668         34.2     27767         78.4        13.6           7.8   \n",
       "\n",
       "      FamilyWork  Unemployment  \n",
       "947          0.2           2.8  \n",
       "2852         0.2           6.2  \n",
       "2746         0.0           2.6  \n",
       "2069         0.2           7.5  \n",
       "81           0.3          28.6  \n",
       "1625         1.2           0.8  \n",
       "1091         0.0           8.3  \n",
       "1104         0.0          14.6  \n",
       "616          0.2           7.0  \n",
       "2668         0.2          11.5  \n",
       "\n",
       "[10 rows x 37 columns]"
      ]
     },
     "execution_count": 4,
     "metadata": {},
     "output_type": "execute_result"
    }
   ],
   "source": [
    "df.sample(10)\n"
   ]
  },
  {
   "cell_type": "markdown",
   "metadata": {},
   "source": [
    "- We will focus first on income per capita across counties."
   ]
  },
  {
   "cell_type": "code",
   "execution_count": 5,
   "metadata": {},
   "outputs": [
    {
     "data": {
      "image/png": "[encoded data removed]",
      "text/plain": [
       "<Figure size 640x480 with 1 Axes>"
      ]
     },
     "metadata": {},
     "output_type": "display_data"
    }
   ],
   "source": [
    "df['IncomePerCap'].hist(bins = 50)\n",
    "plt.show()"
   ]
  },
  {
   "cell_type": "markdown",
   "metadata": {},
   "source": [
    "### 1. Calculating descriptive statisctics\n",
    "\n",
    "- Let's calculate basic descriptive statistics of the income per capita."
   ]
  },
  {
   "cell_type": "code",
   "execution_count": 6,
   "metadata": {},
   "outputs": [
    {
     "data": {
      "text/plain": [
       "count     3220.000000\n",
       "mean     23981.771739\n",
       "std       6204.339960\n",
       "min       5878.000000\n",
       "25%      20238.500000\n",
       "50%      23460.000000\n",
       "75%      27053.250000\n",
       "max      65600.000000\n",
       "Name: IncomePerCap, dtype: float64"
      ]
     },
     "execution_count": 6,
     "metadata": {},
     "output_type": "execute_result"
    }
   ],
   "source": [
    "df['IncomePerCap'].describe()"
   ]
  },
  {
   "cell_type": "markdown",
   "metadata": {},
   "source": [
    "- What distribution does the data come from? Here is how we can test the goodness of the fit."
   ]
  },
  {
   "cell_type": "code",
   "execution_count": 7,
   "metadata": {},
   "outputs": [
    {
     "data": {
      "text/plain": [
       "(0.0637621121184162, 0.0009999999999998899)"
      ]
     },
     "execution_count": 7,
     "metadata": {},
     "output_type": "execute_result"
    }
   ],
   "source": [
    "# does the data come from a normal distrbution?\n",
    "diagnostic.kstest_normal(df['IncomePerCap'].values, dist = 'norm')"
   ]
  },
  {
   "cell_type": "markdown",
   "metadata": {},
   "source": [
    "- p_value < 0.05 -> we can reject the null hypothesis that the data comes from a normal distribution!"
   ]
  },
  {
   "cell_type": "code",
   "execution_count": 8,
   "metadata": {},
   "outputs": [
    {
     "data": {
      "text/plain": [
       "(0.433243770582646, 0.0009999999999998899)"
      ]
     },
     "execution_count": 8,
     "metadata": {},
     "output_type": "execute_result"
    }
   ],
   "source": [
    "#how about exponential?\n",
    "diagnostic.kstest_normal(df['IncomePerCap'].values, dist = 'exp')"
   ]
  },
  {
   "cell_type": "markdown",
   "metadata": {},
   "source": [
    "- p < 0.05 -> not exponential either!"
   ]
  },
  {
   "cell_type": "markdown",
   "metadata": {},
   "source": [
    "### 2. How to sample the data"
   ]
  },
  {
   "cell_type": "markdown",
   "metadata": {},
   "source": [
    "- Often we need to find random samples from the dataset. We can do so conveniently with pandas wrappers."
   ]
  },
  {
   "cell_type": "code",
   "execution_count": 9,
   "metadata": {},
   "outputs": [],
   "source": [
    "#make 10 samples with replacement\n",
    "sample1_counties = df.sample(n = 10, replace = True)\n",
    "\n",
    "#make 10 samples without replacement\n",
    "sample1_counties = df.sample(n = 10, replace = False)\n",
    "\n",
    "#sometimes we want to sample in an ublanaced way, so that we upsample datapoints of certain characteristic,\n",
    "#and downsample the others. this can be acieved with weights parameter\n",
    "#here we sample by upsampling counties with large population\n",
    "sample2_counties = df.sample(n = 10, replace = False, weights = df['TotalPop'])"
   ]
  },
  {
   "cell_type": "code",
   "execution_count": 10,
   "metadata": {},
   "outputs": [
    {
     "name": "stdout",
     "output_type": "stream",
     "text": [
      "40607.8\n",
      "836098.7\n"
     ]
    }
   ],
   "source": [
    "#on avergage, the samples in the sample produce with reveighting now have higher population, as we wanted!\n",
    "print(sample1_counties['TotalPop'].mean())\n",
    "print(sample2_counties['TotalPop'].mean())"
   ]
  },
  {
   "cell_type": "markdown",
   "metadata": {},
   "source": [
    "### 3. Examining relationship between two variables"
   ]
  },
  {
   "cell_type": "markdown",
   "metadata": {},
   "source": [
    "- Is income per capita of a county correlated with the unemployment?"
   ]
  },
  {
   "cell_type": "code",
   "execution_count": 11,
   "metadata": {},
   "outputs": [
    {
     "data": {
      "text/plain": [
       "PearsonRResult(statistic=0.2646136320394489, pvalue=9.942215354239015e-53)"
      ]
     },
     "execution_count": 11,
     "metadata": {},
     "output_type": "execute_result"
    }
   ],
   "source": [
    "stats.pearsonr(df['IncomePerCap'],df['Employed'])"
   ]
  },
  {
   "cell_type": "markdown",
   "metadata": {},
   "source": [
    "- There is a small (0.26), but significant (p < 0.05) positive correlation."
   ]
  },
  {
   "cell_type": "code",
   "execution_count": 12,
   "metadata": {},
   "outputs": [
    {
     "data": {
      "text/plain": [
       "SignificanceResult(statistic=0.30770631560595474, pvalue=1.415296431173735e-71)"
      ]
     },
     "execution_count": 12,
     "metadata": {},
     "output_type": "execute_result"
    }
   ],
   "source": [
    "stats.spearmanr(df['IncomePerCap'],df['Employed'])"
   ]
  },
  {
   "cell_type": "markdown",
   "metadata": {},
   "source": [
    "- Spearman rank coorrelation is also significant."
   ]
  },
  {
   "cell_type": "markdown",
   "metadata": {},
   "source": [
    "### 4. Hypothesis testing"
   ]
  },
  {
   "cell_type": "markdown",
   "metadata": {},
   "source": [
    "- Is income per capita higher in New York counties compared to California counties?"
   ]
  },
  {
   "cell_type": "code",
   "execution_count": 13,
   "metadata": {},
   "outputs": [
    {
     "data": {
      "text/plain": [
       "28189.75806451613"
      ]
     },
     "execution_count": 13,
     "metadata": {},
     "output_type": "execute_result"
    }
   ],
   "source": [
    "df.loc[df['State'] == 'New York']['IncomePerCap'].mean()"
   ]
  },
  {
   "cell_type": "code",
   "execution_count": 14,
   "metadata": {},
   "outputs": [
    {
     "data": {
      "text/plain": [
       "27902.603448275862"
      ]
     },
     "execution_count": 14,
     "metadata": {},
     "output_type": "execute_result"
    }
   ],
   "source": [
    "df.loc[df['State'] == 'California']['IncomePerCap'].mean()"
   ]
  },
  {
   "cell_type": "markdown",
   "metadata": {},
   "source": [
    "- We see that there is a ~300$ gap. Quite a lot!\n",
    "- But is it significantly higher? Let's use a t-test. This is a two-sided test for the null hypothesis that the two independent samples have identical average (expected) values. "
   ]
  },
  {
   "cell_type": "code",
   "execution_count": 15,
   "metadata": {},
   "outputs": [
    {
     "data": {
      "text/plain": [
       "TtestResult(statistic=0.19788117232375713, pvalue=0.8434785239169611, df=118.0)"
      ]
     },
     "execution_count": 15,
     "metadata": {},
     "output_type": "execute_result"
    }
   ],
   "source": [
    "stats.ttest_ind(df.loc[df['State'] == 'New York']['IncomePerCap'], df.loc[df['State'] == 'California']['IncomePerCap'])"
   ]
  },
  {
   "cell_type": "markdown",
   "metadata": {},
   "source": [
    "- p is not smaller than 0.05 -> we cannot reject the null hypothesis that the income is the same -> there is no significant difference"
   ]
  },
  {
   "cell_type": "markdown",
   "metadata": {},
   "source": [
    "### 5. How to measure uncertainty\n",
    "- Now we see the importance of mesuring uncertainty and indicating it on data visualizations.\n",
    "- Visual inspection of 95% confidence intervals lets us see that the difference is not significant (the errorbars are overlapping)."
   ]
  },
  {
   "cell_type": "code",
   "execution_count": 16,
   "metadata": {},
   "outputs": [
    {
     "data": {
      "image/png": "[encoded data removed]",
      "text/plain": [
       "<Figure size 640x480 with 1 Axes>"
      ]
     },
     "metadata": {},
     "output_type": "display_data"
    }
   ],
   "source": [
    "ax = sns.barplot(x=\"State\", y=\"IncomePerCap\", data=df.loc[df['State'].isin(['New York','California'])])\n",
    "plt.ylim([25000,32000])\n",
    "plt.show()"
   ]
  },
  {
   "cell_type": "markdown",
   "metadata": {},
   "source": [
    "# Exercise 1: Boosting the economy by incentivizing self-employment\n",
    "\n",
    "Assume the biggest priority of the local government in 2018 is to increase per-capita income. To do so, the officials plan to adopt a strategy for incentivizing self-employment through a series of campaigns, educational programs, and dedicated funds.\n",
    "\n",
    "Since it is unethical and impossible in this setting to run a controlled experiment involving citizens (e.g., fire employees and force them to self-employ), the officials have asked you, the data scientist, to establish the effect of self-employment on the economy, relying on observational data.\n",
    "\n",
    "**A)** Using suitable methods, determine and quantify the dependency between the percentage of self-employed citizens and per capita income across all 3,212 US counties. Do citizens in counties that have a higher percentage of self-employed people earn more per capita?"
   ]
  },
  {
   "cell_type": "code",
   "execution_count": 25,
   "metadata": {},
   "outputs": [
    {
     "name": "stdout",
     "output_type": "stream",
     "text": [
      "Correlation: 0.08727386609551786\n",
      "P-value: 7.052861196524553e-07\n",
      "There is a statistically significant correlation between the percentage of self-employed citizens and per capita income.\n",
      "Citizens in counties with a higher percentage of self-employed people tend to earn more per capita.\n"
     ]
    }
   ],
   "source": [
    "### your code and or answer here ###\n",
    "# Calculate the correlation between the percentage of self-employed citizens and per capita income\n",
    "correlation, p_value = stats.pearsonr(df['SelfEmployed'], df['IncomePerCap'])\n",
    "\n",
    "# Print the results\n",
    "print(f\"Correlation: {correlation}\")\n",
    "print(f\"P-value: {p_value}\")\n",
    "\n",
    "per_capita_self_employed = df[['State', 'SelfEmployed', 'IncomePerCap']]\n",
    "\n",
    "# no clear dependency but a very small positive correlation"
   ]
  },
  {
   "cell_type": "markdown",
   "metadata": {},
   "source": [
    "**B)** The pilot program will involve all counties within a limited set of three US states. Set A includes Wisconsin, Tennessee, and  Minnesota. Quantify the dependency of per-capita income on self-employment rates across all the counties in set A."
   ]
  },
  {
   "cell_type": "code",
   "execution_count": 17,
   "metadata": {},
   "outputs": [
    {
     "name": "stdout",
     "output_type": "stream",
     "text": [
      "Correlation for set A: -0.20229350736521498\n",
      "P-value for set A: 0.0011881639322138644\n"
     ]
    }
   ],
   "source": [
    "### your code and or answer here ###\n",
    "# Filter the dataframe for the states in set A\n",
    "set_A_states = ['Wisconsin', 'Tennessee', 'Minnesota']\n",
    "df_set_A = df[df['State'].isin(set_A_states)]\n",
    "\n",
    "# Calculate the correlation between self-employment rates and per capita income for set A\n",
    "correlation_set_A, p_value_set_A = stats.pearsonr(df_set_A['SelfEmployed'], df_set_A['IncomePerCap'])\n",
    "\n",
    "# Print the results\n",
    "print(f\"Correlation for set A: {correlation_set_A}\")\n",
    "print(f\"P-value for set A: {p_value_set_A}\")\n",
    "\n",
    "#There is not a clear dependency but the correlation is negative. "
   ]
  },
  {
   "cell_type": "markdown",
   "metadata": {},
   "source": [
    "**C)** In which state within set A is the observed effect of self-employment on per-capita income the strongest?"
   ]
  },
  {
   "cell_type": "code",
   "execution_count": 19,
   "metadata": {},
   "outputs": [
    {
     "name": "stdout",
     "output_type": "stream",
     "text": [
      "Correlation for Wisconsin: -0.32905300016378525\n",
      "P-value for Wisconsin: 0.004768134887745218\n",
      "Correlation for Tennessee: -0.23836048684913147\n",
      "P-value for Tennessee: 0.020011631955528107\n",
      "Correlation for Minnesota: -0.2538551921654062\n",
      "P-value for Minnesota: 0.01766519930091188\n"
     ]
    }
   ],
   "source": [
    "### your code and or answer here ###\n",
    "df_set_Wisconsin = df[df['State'] == 'Wisconsin']\n",
    "df_set_Tennessee = df[df['State'] == 'Tennessee']\n",
    "df_set_Minnesota = df[df['State'] == 'Minnesota']\n",
    "\n",
    "# Calculate the correlation between self-employment rates and per capita income for each state in set A\n",
    "correlation_Wisconsin, p_value_Wisconsin = stats.pearsonr(df_set_Wisconsin['SelfEmployed'], df_set_Wisconsin['IncomePerCap'])\n",
    "correlation_Tennessee, p_value_Tennessee = stats.pearsonr(df_set_Tennessee['SelfEmployed'], df_set_Tennessee['IncomePerCap'])\n",
    "correlation_Minnesota, p_value_Minnesota = stats.pearsonr(df_set_Minnesota['SelfEmployed'], df_set_Minnesota['IncomePerCap'])\n",
    "\n",
    "# Print the results\n",
    "print(f\"Correlation for Wisconsin: {correlation_Wisconsin}\")\n",
    "print(f\"P-value for Wisconsin: {p_value_Wisconsin}\")\n",
    "print(f\"Correlation for Tennessee: {correlation_Tennessee}\")\n",
    "print(f\"P-value for Tennessee: {p_value_Tennessee}\")\n",
    "print(f\"Correlation for Minnesota: {correlation_Minnesota}\")\n",
    "print(f\"P-value for Minnesota: {p_value_Minnesota}\")\n"
   ]
  },
  {
   "cell_type": "markdown",
   "metadata": {},
   "source": [
    "**D)** Set B includes New Jersey, Kansas, and Rhode Island. Repeat the analysis from steps B and C above, but now for set B. In which of the two sets A and B (if any) would you recommend incentivizing self-employment? Explain your reasoning. Hint: It is useful to add a notion of confidence to your results and explore the data visually."
   ]
  },
  {
   "cell_type": "code",
   "execution_count": 21,
   "metadata": {},
   "outputs": [
    {
     "name": "stdout",
     "output_type": "stream",
     "text": [
      "Correlation for set B: -0.2322214134608569\n",
      "P-value for set B: 0.0076074930428573165\n"
     ]
    }
   ],
   "source": [
    "### your code and or answer here ###\n",
    "\n",
    "# Filter the dataframe for the states in set B\n",
    "set_B_states = ['New Jersey', 'Kansas', 'Rhode Island']\n",
    "df_set_B = df[df['State'].isin(set_B_states)]\n",
    "\n",
    "# Calculate the correlation between self-employment rates and per capita income for set B\n",
    "correlation_set_B, p_value_set_B = stats.pearsonr(df_set_B['SelfEmployed'], df_set_B['IncomePerCap'])\n",
    "\n",
    "# Print the results\n",
    "print(f\"Correlation for set B: {correlation_set_B}\")\n",
    "print(f\"P-value for set B: {p_value_set_B}\")"
   ]
  },
  {
   "cell_type": "code",
   "execution_count": 22,
   "metadata": {},
   "outputs": [
    {
     "name": "stdout",
     "output_type": "stream",
     "text": [
      "Correlation for New Jersey: 0.48044784713362815\n",
      "P-value for New Jersey: 0.027488944757806215\n",
      "Correlation for Kansas: 0.2581029971443692\n",
      "P-value for Kansas: 0.007853351846832411\n",
      "Correlation for Rhode Island: 0.9021788382149805\n",
      "P-value for Rhode Island: 0.036183102015759167\n"
     ]
    }
   ],
   "source": [
    "df_set_New_Jersey = df[df['State'] == 'New Jersey']\n",
    "df_set_Kansas = df[df['State'] == 'Kansas']\n",
    "df_set_Rhode_Island = df[df['State'] == 'Rhode Island']\n",
    "\n",
    "# Calculate the correlation between self-employment rates and per capita income for each state in set B\n",
    "correlation_New_Jersey, p_value_New_Jersey = stats.pearsonr(df_set_New_Jersey['SelfEmployed'], df_set_New_Jersey['IncomePerCap'])\n",
    "correlation_Kansas, p_value_Kansas = stats.pearsonr(df_set_Kansas['SelfEmployed'], df_set_Kansas['IncomePerCap'])\n",
    "correlation_Rhode_Island, p_value_Rhode_Island = stats.pearsonr(df_set_Rhode_Island['SelfEmployed'], df_set_Rhode_Island['IncomePerCap'])\n",
    "\n",
    "# Print the results\n",
    "print(f\"Correlation for New Jersey: {correlation_New_Jersey}\")\n",
    "print(f\"P-value for New Jersey: {p_value_New_Jersey}\")\n",
    "print(f\"Correlation for Kansas: {correlation_Kansas}\")\n",
    "print(f\"P-value for Kansas: {p_value_Kansas}\")\n",
    "print(f\"Correlation for Rhode Island: {correlation_Rhode_Island}\")\n",
    "print(f\"P-value for Rhode Island: {p_value_Rhode_Island}\")\n"
   ]
  },
  {
   "cell_type": "markdown",
   "metadata": {},
   "source": [
    "# Exercise 2. Data visualization and read the stats comprehension and interpretation questions.\n",
    "\n",
    "- As part of the quizes, two homeworks and the final exam, you will be at times asked to interpret your result based on the understanding of underlying concepts. The questions below can help you practice and get a sense of how well you understand the concepts covered in the class so far. Can you answer these questions confidently?"
   ]
  },
  {
   "cell_type": "markdown",
   "metadata": {},
   "source": [
    "### Question 1. The yearly salaries (in thousands of CHF) of 7000 people are summarized in the following box plot. If the 20th percentile of the salaries is 110,000, how many people earn between 110,000 and 114,000?\n",
    "\n",
    "- a) 2100\n",
    "- b) 700\n",
    "- c) 350\n",
    "- d) 70"
   ]
  },
  {
   "cell_type": "markdown",
   "metadata": {},
   "source": [
    "<img src=\"boxplot.png\" style=\"width: 400px;\" align=\"left\"/>"
   ]
  },
  {
   "cell_type": "code",
   "execution_count": null,
   "metadata": {},
   "outputs": [],
   "source": [
    "### your code and or answer here ###\n",
    "# 114 is the 1st quartile, so 25%\n",
    "# Hence, 5% of 7000 is 350\n",
    "#so option c "
   ]
  },
  {
   "cell_type": "markdown",
   "metadata": {},
   "source": [
    "### Question 2. What visualizations are suitable for getting insights about the distribution of a single continuous variable?\n",
    "\n",
    "- a) Barplot and histogram\n",
    "- b) Boxplot and histogram\n",
    "- c) Scatterplot and boxplot\n",
    "- d) Barplot, boxplot, and histogram"
   ]
  },
  {
   "cell_type": "code",
   "execution_count": null,
   "metadata": {},
   "outputs": [],
   "source": [
    "### your code and or answer here ###\n",
    "#b boxplot and histogram"
   ]
  },
  {
   "cell_type": "markdown",
   "metadata": {},
   "source": [
    "### Question 3. In a new groundbreaking study, 28 out of 100 patients reported improvements after taking a new medicine. It is known that, when given a placebo, 20% of the patients report feeling better. What is the p-value assuming the null hypothesis that the probability of successful treatment in this groundbreaking study is the same as the probability of reporting feeling better under placebo, according to a one-sided binomial test? Hint: you may use the statsmodels.stats.proportion.binom_test function.\n",
    "\n",
    "- a) 0.00034\n",
    "- b) 0.0034\n",
    "- c) 0.034\n",
    "- d) 0.34"
   ]
  },
  {
   "cell_type": "code",
   "execution_count": 31,
   "metadata": {},
   "outputs": [
    {
     "data": {
      "text/plain": [
       "0.03415162963907485"
      ]
     },
     "execution_count": 31,
     "metadata": {},
     "output_type": "execute_result"
    }
   ],
   "source": [
    "### your code and or answer here ###\n",
    "import statsmodels.stats.proportion as smp\n",
    "smp.binom_test(28, 100, 0.2, alternative = 'larger')"
   ]
  },
  {
   "cell_type": "markdown",
   "metadata": {},
   "source": [
    "### Question 4. The 95% confidence interval of the average height of 1000 people using bootstrap resampling with 10000 bootstrap samples is calculated by:\n",
    "\n",
    "- a) Sampling 1000 height values with replacement and computing the mean. This is repeated 10000 times to create a sorted list of the 10000 means. The CI is defined by the 500th and the 9500th value in sorted order.\n",
    "- b) Sampling 10000 height values without replacement and computing the mean. This is repeated 1000 times to create a sorted list of the 1000 means. The CI is defined by the 25th and the 975th value in sorted order.\n",
    "- c) Sampling 1000 height values with replacement and computing the mean. This is repeated 10000 times to create a sorted list of the 10000 means. The CI is defined by the 250th and the 9750th value in sorted order.\n",
    "- d) Sampling 1000 height values without replacement and computing the mean. This is repeated 10000 times to create a sorted list of the 10000 means. The CI is defined by the 500th and the 9500th value in sorted order.\n",
    "\n",
    "### Implement your bootstrapping function that you will use in the rest of the course. It should take an array and the number of iterations as inputs, and output 95% confidence intervals of the mean."
   ]
  },
  {
   "cell_type": "code",
   "execution_count": 32,
   "metadata": {},
   "outputs": [
    {
     "name": "stdout",
     "output_type": "stream",
     "text": [
      "95% CI for the mean: (23770.157857142858, 24196.05219720497)\n"
     ]
    }
   ],
   "source": [
    "import numpy as np\n",
    "\n",
    "### your code and or answer here ###\n",
    "def bootstrap_mean_ci(data, num_iterations=10000, ci=95):\n",
    "    means = []\n",
    "    n = len(data)\n",
    "    for _ in range(num_iterations):\n",
    "        sample = np.random.choice(data, size=n, replace=True)\n",
    "        means.append(np.mean(sample))\n",
    "    lower_bound = np.percentile(means, (100 - ci) / 2)\n",
    "    upper_bound = np.percentile(means, 100 - (100 - ci) / 2)\n",
    "    return lower_bound, upper_bound\n",
    "\n",
    "# Example usage:\n",
    "data = df['IncomePerCap'].dropna().values\n",
    "ci_lower, ci_upper = bootstrap_mean_ci(data)\n",
    "print(f\"95% CI for the mean: ({ci_lower}, {ci_upper})\")"
   ]
  },
  {
   "cell_type": "markdown",
   "metadata": {},
   "source": [
    "### Question 5. A study conducted at EPFL revealed a negative Spearman’s correlation between GPA and entry-level job salary. Which of the following statements is true?\n",
    "\n",
    "- a) There could be a positive Spearman’s correlation between GPA and entry-level job salary in every single department of EPFL.\n",
    "- b) Spearman correlation between GPA and entry-level job salary in every single department has to be positive.\n",
    "- c) Across all levels, as opposed to entry-level only, higher GPA scores are associated with higher job salaries.\n",
    "- d) We can infer that finishing EPFL with a higher GPA causes you to have a lower entry-level job salary."
   ]
  },
  {
   "cell_type": "code",
   "execution_count": null,
   "metadata": {},
   "outputs": [],
   "source": [
    "### your code and or answer here ###\n",
    "#a "
   ]
  },
  {
   "cell_type": "markdown",
   "metadata": {},
   "source": [
    "### Question 6. The average number of requests per page during a day on a large website is 200, while the median is 15. \n",
    "\n",
    "- a) You can assume that the distribution is heavy-tailed.\n",
    "- b) You are dealing with a left-skewed distribution.\n",
    "- c) Half of the pages get more than 200 requests.\n",
    "- d) None of the above."
   ]
  },
  {
   "cell_type": "code",
   "execution_count": null,
   "metadata": {},
   "outputs": [],
   "source": [
    "### your code and or answer here ###\n",
    "#d none of the above, a single outlier could have a large effect "
   ]
  }
 ],
 "metadata": {
  "kernelspec": {
   "display_name": "Python 3 (ipykernel)",
   "language": "python",
   "name": "python3"
  },
  "language_info": {
   "codemirror_mode": {
    "name": "ipython",
    "version": 3
   },
   "file_extension": ".py",
   "mimetype": "text/x-python",
   "name": "python",
   "nbconvert_exporter": "python",
   "pygments_lexer": "ipython3",
   "version": "3.11.9"
  },
  "varInspector": {
   "cols": {
    "lenName": 16,
    "lenType": 16,
    "lenVar": 40
   },
   "kernels_config": {
    "python": {
     "delete_cmd_postfix": "",
     "delete_cmd_prefix": "del ",
     "library": "var_list.py",
     "varRefreshCmd": "print(var_dic_list())"
    },
    "r": {
     "delete_cmd_postfix": ") ",
     "delete_cmd_prefix": "rm(",
     "library": "var_list.r",
     "varRefreshCmd": "cat(var_dic_list()) "
    }
   },
   "types_to_exclude": [
    "module",
    "function",
    "builtin_function_or_method",
    "instance",
    "_Feature"
   ],
   "window_display": false
  }
 },
 "nbformat": 4,
 "nbformat_minor": 4
}
